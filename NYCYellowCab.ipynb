{
 "cells": [
  {
   "cell_type": "code",
   "execution_count": 1,
   "id": "35169d43",
   "metadata": {},
   "outputs": [],
   "source": [
    "import pandas as pd\n",
    "import matplotlib.pyplot as plt\n",
    "import seaborn as sns\n",
    "import numpy as np \n",
    "import datetime\n",
    "\n",
    "import tensorflow as tf\n",
    "import io"
   ]
  },
  {
   "cell_type": "code",
   "execution_count": 2,
   "id": "66899da2",
   "metadata": {},
   "outputs": [],
   "source": [
    "from sklearn.model_selection import train_test_split\n",
    "from sklearn.preprocessing import StandardScaler,MinMaxScaler"
   ]
  },
  {
   "cell_type": "code",
   "execution_count": 3,
   "id": "16001270",
   "metadata": {},
   "outputs": [],
   "source": [
    "sns.set_theme(style='darkgrid')"
   ]
  },
  {
   "cell_type": "markdown",
   "id": "9abdad9b",
   "metadata": {},
   "source": [
    "### Read the pre-processed data"
   ]
  },
  {
   "cell_type": "code",
   "execution_count": 4,
   "id": "542d2cc2",
   "metadata": {},
   "outputs": [],
   "source": [
    "df = pd.read_csv(\"D:/MY DOCS/Fall 22/Intro to DL/yellow_tripdata_March_cleaned.csv\")"
   ]
  },
  {
   "cell_type": "code",
   "execution_count": 5,
   "id": "5c58b19d",
   "metadata": {},
   "outputs": [
    {
     "data": {
      "text/html": [
       "<div>\n",
       "<style scoped>\n",
       "    .dataframe tbody tr th:only-of-type {\n",
       "        vertical-align: middle;\n",
       "    }\n",
       "\n",
       "    .dataframe tbody tr th {\n",
       "        vertical-align: top;\n",
       "    }\n",
       "\n",
       "    .dataframe thead th {\n",
       "        text-align: right;\n",
       "    }\n",
       "</style>\n",
       "<table border=\"1\" class=\"dataframe\">\n",
       "  <thead>\n",
       "    <tr style=\"text-align: right;\">\n",
       "      <th></th>\n",
       "      <th>Unnamed: 0</th>\n",
       "      <th>VendorID</th>\n",
       "      <th>passenger_count</th>\n",
       "      <th>trip_distance</th>\n",
       "      <th>RatecodeID</th>\n",
       "      <th>store_and_fwd_flag</th>\n",
       "      <th>PULocationID</th>\n",
       "      <th>DOLocationID</th>\n",
       "      <th>payment_type</th>\n",
       "      <th>fare_amount</th>\n",
       "      <th>...</th>\n",
       "      <th>tip_amount</th>\n",
       "      <th>tolls_amount</th>\n",
       "      <th>improvement_surcharge</th>\n",
       "      <th>total_amount</th>\n",
       "      <th>congestion_surcharge</th>\n",
       "      <th>trip_time</th>\n",
       "      <th>day_of_week</th>\n",
       "      <th>pickup_hour</th>\n",
       "      <th>pickup_timeofday</th>\n",
       "      <th>date</th>\n",
       "    </tr>\n",
       "  </thead>\n",
       "  <tbody>\n",
       "    <tr>\n",
       "      <th>0</th>\n",
       "      <td>0</td>\n",
       "      <td>1</td>\n",
       "      <td>1.0</td>\n",
       "      <td>4.70</td>\n",
       "      <td>1.0</td>\n",
       "      <td>0</td>\n",
       "      <td>88</td>\n",
       "      <td>255</td>\n",
       "      <td>1</td>\n",
       "      <td>22.0</td>\n",
       "      <td>...</td>\n",
       "      <td>2.00</td>\n",
       "      <td>0.0</td>\n",
       "      <td>0.3</td>\n",
       "      <td>27.80</td>\n",
       "      <td>2.5</td>\n",
       "      <td>30.483333</td>\n",
       "      <td>6</td>\n",
       "      <td>0</td>\n",
       "      <td>Late night</td>\n",
       "      <td>2020-03-01</td>\n",
       "    </tr>\n",
       "    <tr>\n",
       "      <th>1</th>\n",
       "      <td>2</td>\n",
       "      <td>1</td>\n",
       "      <td>1.0</td>\n",
       "      <td>1.10</td>\n",
       "      <td>1.0</td>\n",
       "      <td>0</td>\n",
       "      <td>246</td>\n",
       "      <td>90</td>\n",
       "      <td>1</td>\n",
       "      <td>6.0</td>\n",
       "      <td>...</td>\n",
       "      <td>1.95</td>\n",
       "      <td>0.0</td>\n",
       "      <td>0.3</td>\n",
       "      <td>11.75</td>\n",
       "      <td>2.5</td>\n",
       "      <td>6.966667</td>\n",
       "      <td>6</td>\n",
       "      <td>0</td>\n",
       "      <td>Late night</td>\n",
       "      <td>2020-03-01</td>\n",
       "    </tr>\n",
       "    <tr>\n",
       "      <th>2</th>\n",
       "      <td>3</td>\n",
       "      <td>2</td>\n",
       "      <td>2.0</td>\n",
       "      <td>0.87</td>\n",
       "      <td>1.0</td>\n",
       "      <td>0</td>\n",
       "      <td>151</td>\n",
       "      <td>238</td>\n",
       "      <td>1</td>\n",
       "      <td>5.0</td>\n",
       "      <td>...</td>\n",
       "      <td>1.76</td>\n",
       "      <td>0.0</td>\n",
       "      <td>0.3</td>\n",
       "      <td>10.56</td>\n",
       "      <td>2.5</td>\n",
       "      <td>3.066667</td>\n",
       "      <td>6</td>\n",
       "      <td>0</td>\n",
       "      <td>Late night</td>\n",
       "      <td>2020-03-01</td>\n",
       "    </tr>\n",
       "    <tr>\n",
       "      <th>3</th>\n",
       "      <td>5</td>\n",
       "      <td>1</td>\n",
       "      <td>1.0</td>\n",
       "      <td>3.50</td>\n",
       "      <td>1.0</td>\n",
       "      <td>1</td>\n",
       "      <td>113</td>\n",
       "      <td>142</td>\n",
       "      <td>1</td>\n",
       "      <td>15.0</td>\n",
       "      <td>...</td>\n",
       "      <td>3.75</td>\n",
       "      <td>0.0</td>\n",
       "      <td>0.3</td>\n",
       "      <td>22.55</td>\n",
       "      <td>2.5</td>\n",
       "      <td>18.566667</td>\n",
       "      <td>6</td>\n",
       "      <td>0</td>\n",
       "      <td>Late night</td>\n",
       "      <td>2020-03-01</td>\n",
       "    </tr>\n",
       "    <tr>\n",
       "      <th>4</th>\n",
       "      <td>6</td>\n",
       "      <td>1</td>\n",
       "      <td>1.0</td>\n",
       "      <td>14.10</td>\n",
       "      <td>1.0</td>\n",
       "      <td>1</td>\n",
       "      <td>237</td>\n",
       "      <td>14</td>\n",
       "      <td>1</td>\n",
       "      <td>40.5</td>\n",
       "      <td>...</td>\n",
       "      <td>8.85</td>\n",
       "      <td>0.0</td>\n",
       "      <td>0.3</td>\n",
       "      <td>53.15</td>\n",
       "      <td>2.5</td>\n",
       "      <td>31.250000</td>\n",
       "      <td>6</td>\n",
       "      <td>0</td>\n",
       "      <td>Late night</td>\n",
       "      <td>2020-03-01</td>\n",
       "    </tr>\n",
       "  </tbody>\n",
       "</table>\n",
       "<p>5 rows × 22 columns</p>\n",
       "</div>"
      ],
      "text/plain": [
       "   Unnamed: 0  VendorID  passenger_count  trip_distance  RatecodeID  \\\n",
       "0           0         1              1.0           4.70         1.0   \n",
       "1           2         1              1.0           1.10         1.0   \n",
       "2           3         2              2.0           0.87         1.0   \n",
       "3           5         1              1.0           3.50         1.0   \n",
       "4           6         1              1.0          14.10         1.0   \n",
       "\n",
       "   store_and_fwd_flag  PULocationID  DOLocationID  payment_type  fare_amount  \\\n",
       "0                   0            88           255             1         22.0   \n",
       "1                   0           246            90             1          6.0   \n",
       "2                   0           151           238             1          5.0   \n",
       "3                   1           113           142             1         15.0   \n",
       "4                   1           237            14             1         40.5   \n",
       "\n",
       "   ...  tip_amount  tolls_amount  improvement_surcharge  total_amount  \\\n",
       "0  ...        2.00           0.0                    0.3         27.80   \n",
       "1  ...        1.95           0.0                    0.3         11.75   \n",
       "2  ...        1.76           0.0                    0.3         10.56   \n",
       "3  ...        3.75           0.0                    0.3         22.55   \n",
       "4  ...        8.85           0.0                    0.3         53.15   \n",
       "\n",
       "   congestion_surcharge  trip_time  day_of_week  pickup_hour  \\\n",
       "0                   2.5  30.483333            6            0   \n",
       "1                   2.5   6.966667            6            0   \n",
       "2                   2.5   3.066667            6            0   \n",
       "3                   2.5  18.566667            6            0   \n",
       "4                   2.5  31.250000            6            0   \n",
       "\n",
       "   pickup_timeofday        date  \n",
       "0        Late night  2020-03-01  \n",
       "1        Late night  2020-03-01  \n",
       "2        Late night  2020-03-01  \n",
       "3        Late night  2020-03-01  \n",
       "4        Late night  2020-03-01  \n",
       "\n",
       "[5 rows x 22 columns]"
      ]
     },
     "execution_count": 5,
     "metadata": {},
     "output_type": "execute_result"
    }
   ],
   "source": [
    "df.head()"
   ]
  },
  {
   "cell_type": "code",
   "execution_count": 6,
   "id": "463978bc",
   "metadata": {},
   "outputs": [
    {
     "name": "stdout",
     "output_type": "stream",
     "text": [
      "<class 'pandas.core.frame.DataFrame'>\n",
      "RangeIndex: 2865492 entries, 0 to 2865491\n",
      "Data columns (total 22 columns):\n",
      " #   Column                 Dtype  \n",
      "---  ------                 -----  \n",
      " 0   Unnamed: 0             int64  \n",
      " 1   VendorID               int64  \n",
      " 2   passenger_count        float64\n",
      " 3   trip_distance          float64\n",
      " 4   RatecodeID             float64\n",
      " 5   store_and_fwd_flag     int64  \n",
      " 6   PULocationID           int64  \n",
      " 7   DOLocationID           int64  \n",
      " 8   payment_type           int64  \n",
      " 9   fare_amount            float64\n",
      " 10  extra                  float64\n",
      " 11  mta_tax                float64\n",
      " 12  tip_amount             float64\n",
      " 13  tolls_amount           float64\n",
      " 14  improvement_surcharge  float64\n",
      " 15  total_amount           float64\n",
      " 16  congestion_surcharge   float64\n",
      " 17  trip_time              float64\n",
      " 18  day_of_week            int64  \n",
      " 19  pickup_hour            int64  \n",
      " 20  pickup_timeofday       object \n",
      " 21  date                   object \n",
      "dtypes: float64(12), int64(8), object(2)\n",
      "memory usage: 481.0+ MB\n"
     ]
    }
   ],
   "source": [
    "df.info()"
   ]
  },
  {
   "cell_type": "code",
   "execution_count": 7,
   "id": "162de365",
   "metadata": {},
   "outputs": [],
   "source": [
    "df = df.iloc[: , 1:]"
   ]
  },
  {
   "cell_type": "code",
   "execution_count": 8,
   "id": "91e18048",
   "metadata": {},
   "outputs": [
    {
     "name": "stdout",
     "output_type": "stream",
     "text": [
      "<class 'pandas.core.frame.DataFrame'>\n",
      "RangeIndex: 2865492 entries, 0 to 2865491\n",
      "Data columns (total 21 columns):\n",
      " #   Column                 Dtype  \n",
      "---  ------                 -----  \n",
      " 0   VendorID               int64  \n",
      " 1   passenger_count        float64\n",
      " 2   trip_distance          float64\n",
      " 3   RatecodeID             float64\n",
      " 4   store_and_fwd_flag     int64  \n",
      " 5   PULocationID           int64  \n",
      " 6   DOLocationID           int64  \n",
      " 7   payment_type           int64  \n",
      " 8   fare_amount            float64\n",
      " 9   extra                  float64\n",
      " 10  mta_tax                float64\n",
      " 11  tip_amount             float64\n",
      " 12  tolls_amount           float64\n",
      " 13  improvement_surcharge  float64\n",
      " 14  total_amount           float64\n",
      " 15  congestion_surcharge   float64\n",
      " 16  trip_time              float64\n",
      " 17  day_of_week            int64  \n",
      " 18  pickup_hour            int64  \n",
      " 19  pickup_timeofday       object \n",
      " 20  date                   object \n",
      "dtypes: float64(12), int64(7), object(2)\n",
      "memory usage: 459.1+ MB\n"
     ]
    }
   ],
   "source": [
    "df.info()"
   ]
  },
  {
   "cell_type": "code",
   "execution_count": 9,
   "id": "7be40944",
   "metadata": {},
   "outputs": [],
   "source": [
    "df['date'] = pd.to_datetime(df['date'])"
   ]
  },
  {
   "cell_type": "markdown",
   "id": "36b2b5c0",
   "metadata": {},
   "source": [
    "#### 2 new features  are considered pickup_hour and day_of_week "
   ]
  },
  {
   "cell_type": "markdown",
   "id": "b85127b4",
   "metadata": {},
   "source": [
    "### Add the weather external factor"
   ]
  },
  {
   "cell_type": "code",
   "execution_count": 10,
   "id": "cc5e3f2e",
   "metadata": {},
   "outputs": [
    {
     "data": {
      "text/html": [
       "<div>\n",
       "<style scoped>\n",
       "    .dataframe tbody tr th:only-of-type {\n",
       "        vertical-align: middle;\n",
       "    }\n",
       "\n",
       "    .dataframe tbody tr th {\n",
       "        vertical-align: top;\n",
       "    }\n",
       "\n",
       "    .dataframe thead th {\n",
       "        text-align: right;\n",
       "    }\n",
       "</style>\n",
       "<table border=\"1\" class=\"dataframe\">\n",
       "  <thead>\n",
       "    <tr style=\"text-align: right;\">\n",
       "      <th></th>\n",
       "      <th>date</th>\n",
       "      <th>tavg</th>\n",
       "      <th>tmin</th>\n",
       "      <th>tmax</th>\n",
       "      <th>prcp</th>\n",
       "      <th>snow</th>\n",
       "      <th>wdir</th>\n",
       "      <th>wspd</th>\n",
       "      <th>wpgt</th>\n",
       "      <th>pres</th>\n",
       "      <th>tsun</th>\n",
       "    </tr>\n",
       "  </thead>\n",
       "  <tbody>\n",
       "    <tr>\n",
       "      <th>0</th>\n",
       "      <td>2020-03-01</td>\n",
       "      <td>2.4</td>\n",
       "      <td>-2.8</td>\n",
       "      <td>8.9</td>\n",
       "      <td>NaN</td>\n",
       "      <td>NaN</td>\n",
       "      <td>NaN</td>\n",
       "      <td>10.2</td>\n",
       "      <td>NaN</td>\n",
       "      <td>1020.5</td>\n",
       "      <td>NaN</td>\n",
       "    </tr>\n",
       "    <tr>\n",
       "      <th>1</th>\n",
       "      <td>2020-03-02</td>\n",
       "      <td>9.1</td>\n",
       "      <td>3.9</td>\n",
       "      <td>14.4</td>\n",
       "      <td>NaN</td>\n",
       "      <td>NaN</td>\n",
       "      <td>NaN</td>\n",
       "      <td>10.4</td>\n",
       "      <td>NaN</td>\n",
       "      <td>1015.0</td>\n",
       "      <td>NaN</td>\n",
       "    </tr>\n",
       "    <tr>\n",
       "      <th>2</th>\n",
       "      <td>2020-03-03</td>\n",
       "      <td>10.9</td>\n",
       "      <td>8.9</td>\n",
       "      <td>13.3</td>\n",
       "      <td>NaN</td>\n",
       "      <td>NaN</td>\n",
       "      <td>NaN</td>\n",
       "      <td>NaN</td>\n",
       "      <td>NaN</td>\n",
       "      <td>NaN</td>\n",
       "      <td>NaN</td>\n",
       "    </tr>\n",
       "    <tr>\n",
       "      <th>3</th>\n",
       "      <td>2020-03-04</td>\n",
       "      <td>10.2</td>\n",
       "      <td>7.2</td>\n",
       "      <td>13.9</td>\n",
       "      <td>NaN</td>\n",
       "      <td>NaN</td>\n",
       "      <td>NaN</td>\n",
       "      <td>19.5</td>\n",
       "      <td>NaN</td>\n",
       "      <td>1007.3</td>\n",
       "      <td>NaN</td>\n",
       "    </tr>\n",
       "    <tr>\n",
       "      <th>4</th>\n",
       "      <td>2020-03-05</td>\n",
       "      <td>7.6</td>\n",
       "      <td>4.4</td>\n",
       "      <td>12.2</td>\n",
       "      <td>NaN</td>\n",
       "      <td>NaN</td>\n",
       "      <td>NaN</td>\n",
       "      <td>7.9</td>\n",
       "      <td>NaN</td>\n",
       "      <td>1018.8</td>\n",
       "      <td>NaN</td>\n",
       "    </tr>\n",
       "  </tbody>\n",
       "</table>\n",
       "</div>"
      ],
      "text/plain": [
       "         date  tavg  tmin  tmax  prcp  snow  wdir  wspd  wpgt    pres  tsun\n",
       "0  2020-03-01   2.4  -2.8   8.9   NaN   NaN   NaN  10.2   NaN  1020.5   NaN\n",
       "1  2020-03-02   9.1   3.9  14.4   NaN   NaN   NaN  10.4   NaN  1015.0   NaN\n",
       "2  2020-03-03  10.9   8.9  13.3   NaN   NaN   NaN   NaN   NaN     NaN   NaN\n",
       "3  2020-03-04  10.2   7.2  13.9   NaN   NaN   NaN  19.5   NaN  1007.3   NaN\n",
       "4  2020-03-05   7.6   4.4  12.2   NaN   NaN   NaN   7.9   NaN  1018.8   NaN"
      ]
     },
     "execution_count": 10,
     "metadata": {},
     "output_type": "execute_result"
    }
   ],
   "source": [
    "df_weather = pd.read_csv(\"D:/MY DOCS/Fall 22/Intro to DL/March_weather.csv\")\n",
    "df_weather.head()"
   ]
  },
  {
   "cell_type": "code",
   "execution_count": 11,
   "id": "7ec6d88d",
   "metadata": {},
   "outputs": [
    {
     "name": "stdout",
     "output_type": "stream",
     "text": [
      "<class 'pandas.core.frame.DataFrame'>\n",
      "RangeIndex: 31 entries, 0 to 30\n",
      "Data columns (total 11 columns):\n",
      " #   Column  Non-Null Count  Dtype  \n",
      "---  ------  --------------  -----  \n",
      " 0   date    31 non-null     object \n",
      " 1   tavg    30 non-null     float64\n",
      " 2   tmin    30 non-null     float64\n",
      " 3   tmax    30 non-null     float64\n",
      " 4   prcp    0 non-null      float64\n",
      " 5   snow    0 non-null      float64\n",
      " 6   wdir    7 non-null      float64\n",
      " 7   wspd    26 non-null     float64\n",
      " 8   wpgt    0 non-null      float64\n",
      " 9   pres    26 non-null     float64\n",
      " 10  tsun    0 non-null      float64\n",
      "dtypes: float64(10), object(1)\n",
      "memory usage: 2.8+ KB\n"
     ]
    }
   ],
   "source": [
    "df_weather.info()"
   ]
  },
  {
   "cell_type": "code",
   "execution_count": 12,
   "id": "085ffe64",
   "metadata": {},
   "outputs": [
    {
     "name": "stdout",
     "output_type": "stream",
     "text": [
      "         date  tavg  tmin  tmax  prcp  snow  wdir  wspd  wpgt  pres  tsun\n",
      "7  2020-03-08   NaN   NaN   NaN   NaN   NaN   NaN   NaN   NaN   NaN   NaN\n"
     ]
    }
   ],
   "source": [
    "print(df_weather[df_weather['date']=='2020-03-08'])"
   ]
  },
  {
   "cell_type": "code",
   "execution_count": 13,
   "id": "a5fc9518",
   "metadata": {},
   "outputs": [],
   "source": [
    "df_weather.fillna(method = 'bfill',inplace=True)"
   ]
  },
  {
   "cell_type": "code",
   "execution_count": 14,
   "id": "3ca0bc08",
   "metadata": {},
   "outputs": [
    {
     "name": "stdout",
     "output_type": "stream",
     "text": [
      "         date  tavg  tmin  tmax  prcp  snow   wdir  wspd  wpgt    pres  tsun\n",
      "7  2020-03-08  13.4   6.7  21.7   NaN   NaN  264.0  15.1   NaN  1027.1   NaN\n"
     ]
    }
   ],
   "source": [
    "print(df_weather[df_weather['date']=='2020-03-08'])"
   ]
  },
  {
   "cell_type": "markdown",
   "id": "16d0ea5d",
   "metadata": {},
   "source": [
    "Taking average temperature as the external factor"
   ]
  },
  {
   "cell_type": "code",
   "execution_count": 15,
   "id": "dadf7bba",
   "metadata": {},
   "outputs": [],
   "source": [
    "df_weather = df_weather[['date','tavg']]"
   ]
  },
  {
   "cell_type": "code",
   "execution_count": 16,
   "id": "b022927f",
   "metadata": {},
   "outputs": [],
   "source": [
    "df_weather['date'] = pd.to_datetime(df_weather['date'])"
   ]
  },
  {
   "cell_type": "code",
   "execution_count": 17,
   "id": "4c76e39a",
   "metadata": {},
   "outputs": [],
   "source": [
    "df_final = df.join(df_weather.set_index('date'), on='date')"
   ]
  },
  {
   "cell_type": "code",
   "execution_count": 18,
   "id": "3a3c77dc",
   "metadata": {},
   "outputs": [
    {
     "data": {
      "text/html": [
       "<div>\n",
       "<style scoped>\n",
       "    .dataframe tbody tr th:only-of-type {\n",
       "        vertical-align: middle;\n",
       "    }\n",
       "\n",
       "    .dataframe tbody tr th {\n",
       "        vertical-align: top;\n",
       "    }\n",
       "\n",
       "    .dataframe thead th {\n",
       "        text-align: right;\n",
       "    }\n",
       "</style>\n",
       "<table border=\"1\" class=\"dataframe\">\n",
       "  <thead>\n",
       "    <tr style=\"text-align: right;\">\n",
       "      <th></th>\n",
       "      <th>VendorID</th>\n",
       "      <th>passenger_count</th>\n",
       "      <th>trip_distance</th>\n",
       "      <th>RatecodeID</th>\n",
       "      <th>store_and_fwd_flag</th>\n",
       "      <th>PULocationID</th>\n",
       "      <th>DOLocationID</th>\n",
       "      <th>payment_type</th>\n",
       "      <th>fare_amount</th>\n",
       "      <th>extra</th>\n",
       "      <th>...</th>\n",
       "      <th>tolls_amount</th>\n",
       "      <th>improvement_surcharge</th>\n",
       "      <th>total_amount</th>\n",
       "      <th>congestion_surcharge</th>\n",
       "      <th>trip_time</th>\n",
       "      <th>day_of_week</th>\n",
       "      <th>pickup_hour</th>\n",
       "      <th>pickup_timeofday</th>\n",
       "      <th>date</th>\n",
       "      <th>tavg</th>\n",
       "    </tr>\n",
       "  </thead>\n",
       "  <tbody>\n",
       "    <tr>\n",
       "      <th>0</th>\n",
       "      <td>1</td>\n",
       "      <td>1.0</td>\n",
       "      <td>4.70</td>\n",
       "      <td>1.0</td>\n",
       "      <td>0</td>\n",
       "      <td>88</td>\n",
       "      <td>255</td>\n",
       "      <td>1</td>\n",
       "      <td>22.0</td>\n",
       "      <td>3.0</td>\n",
       "      <td>...</td>\n",
       "      <td>0.0</td>\n",
       "      <td>0.3</td>\n",
       "      <td>27.80</td>\n",
       "      <td>2.5</td>\n",
       "      <td>30.483333</td>\n",
       "      <td>6</td>\n",
       "      <td>0</td>\n",
       "      <td>Late night</td>\n",
       "      <td>2020-03-01</td>\n",
       "      <td>2.4</td>\n",
       "    </tr>\n",
       "    <tr>\n",
       "      <th>1</th>\n",
       "      <td>1</td>\n",
       "      <td>1.0</td>\n",
       "      <td>1.10</td>\n",
       "      <td>1.0</td>\n",
       "      <td>0</td>\n",
       "      <td>246</td>\n",
       "      <td>90</td>\n",
       "      <td>1</td>\n",
       "      <td>6.0</td>\n",
       "      <td>3.0</td>\n",
       "      <td>...</td>\n",
       "      <td>0.0</td>\n",
       "      <td>0.3</td>\n",
       "      <td>11.75</td>\n",
       "      <td>2.5</td>\n",
       "      <td>6.966667</td>\n",
       "      <td>6</td>\n",
       "      <td>0</td>\n",
       "      <td>Late night</td>\n",
       "      <td>2020-03-01</td>\n",
       "      <td>2.4</td>\n",
       "    </tr>\n",
       "    <tr>\n",
       "      <th>2</th>\n",
       "      <td>2</td>\n",
       "      <td>2.0</td>\n",
       "      <td>0.87</td>\n",
       "      <td>1.0</td>\n",
       "      <td>0</td>\n",
       "      <td>151</td>\n",
       "      <td>238</td>\n",
       "      <td>1</td>\n",
       "      <td>5.0</td>\n",
       "      <td>0.5</td>\n",
       "      <td>...</td>\n",
       "      <td>0.0</td>\n",
       "      <td>0.3</td>\n",
       "      <td>10.56</td>\n",
       "      <td>2.5</td>\n",
       "      <td>3.066667</td>\n",
       "      <td>6</td>\n",
       "      <td>0</td>\n",
       "      <td>Late night</td>\n",
       "      <td>2020-03-01</td>\n",
       "      <td>2.4</td>\n",
       "    </tr>\n",
       "    <tr>\n",
       "      <th>3</th>\n",
       "      <td>1</td>\n",
       "      <td>1.0</td>\n",
       "      <td>3.50</td>\n",
       "      <td>1.0</td>\n",
       "      <td>1</td>\n",
       "      <td>113</td>\n",
       "      <td>142</td>\n",
       "      <td>1</td>\n",
       "      <td>15.0</td>\n",
       "      <td>3.0</td>\n",
       "      <td>...</td>\n",
       "      <td>0.0</td>\n",
       "      <td>0.3</td>\n",
       "      <td>22.55</td>\n",
       "      <td>2.5</td>\n",
       "      <td>18.566667</td>\n",
       "      <td>6</td>\n",
       "      <td>0</td>\n",
       "      <td>Late night</td>\n",
       "      <td>2020-03-01</td>\n",
       "      <td>2.4</td>\n",
       "    </tr>\n",
       "    <tr>\n",
       "      <th>4</th>\n",
       "      <td>1</td>\n",
       "      <td>1.0</td>\n",
       "      <td>14.10</td>\n",
       "      <td>1.0</td>\n",
       "      <td>1</td>\n",
       "      <td>237</td>\n",
       "      <td>14</td>\n",
       "      <td>1</td>\n",
       "      <td>40.5</td>\n",
       "      <td>3.0</td>\n",
       "      <td>...</td>\n",
       "      <td>0.0</td>\n",
       "      <td>0.3</td>\n",
       "      <td>53.15</td>\n",
       "      <td>2.5</td>\n",
       "      <td>31.250000</td>\n",
       "      <td>6</td>\n",
       "      <td>0</td>\n",
       "      <td>Late night</td>\n",
       "      <td>2020-03-01</td>\n",
       "      <td>2.4</td>\n",
       "    </tr>\n",
       "  </tbody>\n",
       "</table>\n",
       "<p>5 rows × 22 columns</p>\n",
       "</div>"
      ],
      "text/plain": [
       "   VendorID  passenger_count  trip_distance  RatecodeID  store_and_fwd_flag  \\\n",
       "0         1              1.0           4.70         1.0                   0   \n",
       "1         1              1.0           1.10         1.0                   0   \n",
       "2         2              2.0           0.87         1.0                   0   \n",
       "3         1              1.0           3.50         1.0                   1   \n",
       "4         1              1.0          14.10         1.0                   1   \n",
       "\n",
       "   PULocationID  DOLocationID  payment_type  fare_amount  extra  ...  \\\n",
       "0            88           255             1         22.0    3.0  ...   \n",
       "1           246            90             1          6.0    3.0  ...   \n",
       "2           151           238             1          5.0    0.5  ...   \n",
       "3           113           142             1         15.0    3.0  ...   \n",
       "4           237            14             1         40.5    3.0  ...   \n",
       "\n",
       "   tolls_amount  improvement_surcharge  total_amount  congestion_surcharge  \\\n",
       "0           0.0                    0.3         27.80                   2.5   \n",
       "1           0.0                    0.3         11.75                   2.5   \n",
       "2           0.0                    0.3         10.56                   2.5   \n",
       "3           0.0                    0.3         22.55                   2.5   \n",
       "4           0.0                    0.3         53.15                   2.5   \n",
       "\n",
       "   trip_time  day_of_week  pickup_hour  pickup_timeofday       date tavg  \n",
       "0  30.483333            6            0        Late night 2020-03-01  2.4  \n",
       "1   6.966667            6            0        Late night 2020-03-01  2.4  \n",
       "2   3.066667            6            0        Late night 2020-03-01  2.4  \n",
       "3  18.566667            6            0        Late night 2020-03-01  2.4  \n",
       "4  31.250000            6            0        Late night 2020-03-01  2.4  \n",
       "\n",
       "[5 rows x 22 columns]"
      ]
     },
     "execution_count": 18,
     "metadata": {},
     "output_type": "execute_result"
    }
   ],
   "source": [
    "df_final.head()"
   ]
  },
  {
   "cell_type": "code",
   "execution_count": 19,
   "id": "84713698",
   "metadata": {},
   "outputs": [
    {
     "data": {
      "text/plain": [
       "(421, 22)"
      ]
     },
     "execution_count": 19,
     "metadata": {},
     "output_type": "execute_result"
    }
   ],
   "source": [
    "### checking the null values for the newly added avg temp \n",
    "df_new = df_final[df_final['tavg'].isna()]\n",
    "df_new.shape"
   ]
  },
  {
   "cell_type": "code",
   "execution_count": 20,
   "id": "92f7c8c4",
   "metadata": {},
   "outputs": [
    {
     "data": {
      "text/plain": [
       "array(['2020-02-29T00:00:00.000000000', '2020-05-24T00:00:00.000000000',\n",
       "       '2020-06-14T00:00:00.000000000', '2009-01-01T00:00:00.000000000',\n",
       "       '2008-12-31T00:00:00.000000000', '2020-04-21T00:00:00.000000000',\n",
       "       '2020-05-12T00:00:00.000000000', '2020-06-03T00:00:00.000000000',\n",
       "       '2020-06-24T00:00:00.000000000', '2020-07-15T00:00:00.000000000',\n",
       "       '2020-08-06T00:00:00.000000000', '2020-08-27T00:00:00.000000000',\n",
       "       '2020-04-04T00:00:00.000000000', '2020-04-25T00:00:00.000000000',\n",
       "       '2020-05-16T00:00:00.000000000', '2020-06-07T00:00:00.000000000',\n",
       "       '2020-06-28T00:00:00.000000000', '2020-07-19T00:00:00.000000000',\n",
       "       '2020-01-27T00:00:00.000000000', '2020-01-28T00:00:00.000000000',\n",
       "       '2020-01-29T00:00:00.000000000', '2020-01-30T00:00:00.000000000',\n",
       "       '2020-01-31T00:00:00.000000000', '2020-02-01T00:00:00.000000000',\n",
       "       '2020-02-02T00:00:00.000000000'], dtype='datetime64[ns]')"
      ]
     },
     "execution_count": 20,
     "metadata": {},
     "output_type": "execute_result"
    }
   ],
   "source": [
    "## checkign which  dates do not have the temperature available\n",
    "df_new['date'].unique()"
   ]
  },
  {
   "cell_type": "code",
   "execution_count": 21,
   "id": "2b00badc",
   "metadata": {},
   "outputs": [],
   "source": [
    "### All of them lie outside the March month so dropping these rows"
   ]
  },
  {
   "cell_type": "code",
   "execution_count": 22,
   "id": "f2a2a934",
   "metadata": {},
   "outputs": [],
   "source": [
    "df_final.dropna(inplace=True)"
   ]
  },
  {
   "cell_type": "code",
   "execution_count": 23,
   "id": "95310fdc",
   "metadata": {},
   "outputs": [
    {
     "name": "stdout",
     "output_type": "stream",
     "text": [
      "<class 'pandas.core.frame.DataFrame'>\n",
      "Int64Index: 2865071 entries, 0 to 2865491\n",
      "Data columns (total 22 columns):\n",
      " #   Column                 Dtype         \n",
      "---  ------                 -----         \n",
      " 0   VendorID               int64         \n",
      " 1   passenger_count        float64       \n",
      " 2   trip_distance          float64       \n",
      " 3   RatecodeID             float64       \n",
      " 4   store_and_fwd_flag     int64         \n",
      " 5   PULocationID           int64         \n",
      " 6   DOLocationID           int64         \n",
      " 7   payment_type           int64         \n",
      " 8   fare_amount            float64       \n",
      " 9   extra                  float64       \n",
      " 10  mta_tax                float64       \n",
      " 11  tip_amount             float64       \n",
      " 12  tolls_amount           float64       \n",
      " 13  improvement_surcharge  float64       \n",
      " 14  total_amount           float64       \n",
      " 15  congestion_surcharge   float64       \n",
      " 16  trip_time              float64       \n",
      " 17  day_of_week            int64         \n",
      " 18  pickup_hour            int64         \n",
      " 19  pickup_timeofday       object        \n",
      " 20  date                   datetime64[ns]\n",
      " 21  tavg                   float64       \n",
      "dtypes: datetime64[ns](1), float64(13), int64(7), object(1)\n",
      "memory usage: 502.8+ MB\n"
     ]
    }
   ],
   "source": [
    "df_final.info()"
   ]
  },
  {
   "cell_type": "code",
   "execution_count": 24,
   "id": "03237138",
   "metadata": {},
   "outputs": [
    {
     "data": {
      "text/plain": [
       "<AxesSubplot:xlabel='date'>"
      ]
     },
     "execution_count": 24,
     "metadata": {},
     "output_type": "execute_result"
    },
    {
     "data": {
      "text/plain": [
       "<Figure size 720x576 with 0 Axes>"
      ]
     },
     "metadata": {},
     "output_type": "display_data"
    },
    {
     "data": {
      "image/png": "[encoded data removed]",
      "text/plain": [
       "<Figure size 432x288 with 1 Axes>"
      ]
     },
     "metadata": {},
     "output_type": "display_data"
    }
   ],
   "source": [
    "fig = plt.figure(figsize=(10,8))\n",
    "df_final.plot.line('date','tavg')"
   ]
  },
  {
   "cell_type": "code",
   "execution_count": 25,
   "id": "fda3a370",
   "metadata": {},
   "outputs": [
    {
     "data": {
      "image/png": "[encoded data removed]",
      "text/plain": [
       "<Figure size 1152x648 with 2 Axes>"
      ]
     },
     "metadata": {},
     "output_type": "display_data"
    }
   ],
   "source": [
    "### Finding correlation among the variables \n",
    "num_cols = ['passenger_count','trip_distance','PULocationID','DOLocationID','fare_amount','extra','mta_tax','tip_amount',\n",
    "           'tolls_amount','improvement_surcharge','total_amount','congestion_surcharge','pickup_hour','day_of_week','tavg',\n",
    "            'trip_time']\n",
    "plt.figure(figsize = (16,9))\n",
    "c1 = df_final[num_cols].corr()\n",
    "ax = sns.heatmap(c1,cmap=\"YlGnBu\",annot=True)\n",
    "plt.show()"
   ]
  },
  {
   "cell_type": "markdown",
   "id": "d16cb519",
   "metadata": {},
   "source": [
    "### Basic linear regression model"
   ]
  },
  {
   "cell_type": "code",
   "execution_count": 26,
   "id": "7c73b173",
   "metadata": {},
   "outputs": [
    {
     "name": "stdout",
     "output_type": "stream",
     "text": [
      "(2865071, 10) (2865071, 1)\n"
     ]
    }
   ],
   "source": [
    "pred_cols = ['passenger_count','trip_distance','PULocationID','DOLocationID','tip_amount','tolls_amount','total_amount',\n",
    "             'pickup_hour','day_of_week','tavg']\n",
    "tar_col = ['trip_time']\n",
    "\n",
    "\n",
    "X = df_final[pred_cols]\n",
    "y =df_final[tar_col]\n",
    "\n",
    "print(X.shape,y.shape)"
   ]
  },
  {
   "cell_type": "code",
   "execution_count": 27,
   "id": "f3e2927c",
   "metadata": {},
   "outputs": [
    {
     "data": {
      "text/html": [
       "<div>\n",
       "<style scoped>\n",
       "    .dataframe tbody tr th:only-of-type {\n",
       "        vertical-align: middle;\n",
       "    }\n",
       "\n",
       "    .dataframe tbody tr th {\n",
       "        vertical-align: top;\n",
       "    }\n",
       "\n",
       "    .dataframe thead th {\n",
       "        text-align: right;\n",
       "    }\n",
       "</style>\n",
       "<table border=\"1\" class=\"dataframe\">\n",
       "  <thead>\n",
       "    <tr style=\"text-align: right;\">\n",
       "      <th></th>\n",
       "      <th>passenger_count</th>\n",
       "      <th>trip_distance</th>\n",
       "      <th>PULocationID</th>\n",
       "      <th>DOLocationID</th>\n",
       "      <th>tip_amount</th>\n",
       "      <th>tolls_amount</th>\n",
       "      <th>total_amount</th>\n",
       "      <th>pickup_hour</th>\n",
       "      <th>day_of_week</th>\n",
       "      <th>tavg</th>\n",
       "    </tr>\n",
       "  </thead>\n",
       "  <tbody>\n",
       "    <tr>\n",
       "      <th>count</th>\n",
       "      <td>2.865071e+06</td>\n",
       "      <td>2.865071e+06</td>\n",
       "      <td>2.865071e+06</td>\n",
       "      <td>2.865071e+06</td>\n",
       "      <td>2.865071e+06</td>\n",
       "      <td>2.865071e+06</td>\n",
       "      <td>2.865071e+06</td>\n",
       "      <td>2.865071e+06</td>\n",
       "      <td>2.865071e+06</td>\n",
       "      <td>2.865071e+06</td>\n",
       "    </tr>\n",
       "    <tr>\n",
       "      <th>mean</th>\n",
       "      <td>1.502471e+00</td>\n",
       "      <td>2.857333e+00</td>\n",
       "      <td>1.638591e+02</td>\n",
       "      <td>1.612875e+02</td>\n",
       "      <td>2.167280e+00</td>\n",
       "      <td>2.871333e-01</td>\n",
       "      <td>1.817053e+01</td>\n",
       "      <td>1.375307e+01</td>\n",
       "      <td>2.852497e+00</td>\n",
       "      <td>9.259619e+00</td>\n",
       "    </tr>\n",
       "    <tr>\n",
       "      <th>std</th>\n",
       "      <td>1.114228e+00</td>\n",
       "      <td>3.621730e+00</td>\n",
       "      <td>6.632229e+01</td>\n",
       "      <td>7.049968e+01</td>\n",
       "      <td>2.590817e+00</td>\n",
       "      <td>1.565552e+00</td>\n",
       "      <td>1.323655e+01</td>\n",
       "      <td>5.788176e+00</td>\n",
       "      <td>1.988705e+00</td>\n",
       "      <td>3.263758e+00</td>\n",
       "    </tr>\n",
       "    <tr>\n",
       "      <th>min</th>\n",
       "      <td>1.000000e+00</td>\n",
       "      <td>1.000000e-02</td>\n",
       "      <td>1.000000e+00</td>\n",
       "      <td>1.000000e+00</td>\n",
       "      <td>0.000000e+00</td>\n",
       "      <td>0.000000e+00</td>\n",
       "      <td>3.100000e-01</td>\n",
       "      <td>0.000000e+00</td>\n",
       "      <td>0.000000e+00</td>\n",
       "      <td>2.400000e+00</td>\n",
       "    </tr>\n",
       "    <tr>\n",
       "      <th>25%</th>\n",
       "      <td>1.000000e+00</td>\n",
       "      <td>1.000000e+00</td>\n",
       "      <td>1.160000e+02</td>\n",
       "      <td>1.070000e+02</td>\n",
       "      <td>0.000000e+00</td>\n",
       "      <td>0.000000e+00</td>\n",
       "      <td>1.116000e+01</td>\n",
       "      <td>1.000000e+01</td>\n",
       "      <td>1.000000e+00</td>\n",
       "      <td>7.600000e+00</td>\n",
       "    </tr>\n",
       "    <tr>\n",
       "      <th>50%</th>\n",
       "      <td>1.000000e+00</td>\n",
       "      <td>1.680000e+00</td>\n",
       "      <td>1.620000e+02</td>\n",
       "      <td>1.620000e+02</td>\n",
       "      <td>1.960000e+00</td>\n",
       "      <td>0.000000e+00</td>\n",
       "      <td>1.430000e+01</td>\n",
       "      <td>1.400000e+01</td>\n",
       "      <td>3.000000e+00</td>\n",
       "      <td>9.100000e+00</td>\n",
       "    </tr>\n",
       "    <tr>\n",
       "      <th>75%</th>\n",
       "      <td>1.000000e+00</td>\n",
       "      <td>3.000000e+00</td>\n",
       "      <td>2.340000e+02</td>\n",
       "      <td>2.340000e+02</td>\n",
       "      <td>2.860000e+00</td>\n",
       "      <td>0.000000e+00</td>\n",
       "      <td>1.975000e+01</td>\n",
       "      <td>1.800000e+01</td>\n",
       "      <td>4.000000e+00</td>\n",
       "      <td>1.090000e+01</td>\n",
       "    </tr>\n",
       "    <tr>\n",
       "      <th>max</th>\n",
       "      <td>6.000000e+00</td>\n",
       "      <td>3.109000e+02</td>\n",
       "      <td>2.650000e+02</td>\n",
       "      <td>2.650000e+02</td>\n",
       "      <td>4.932200e+02</td>\n",
       "      <td>6.010200e+02</td>\n",
       "      <td>1.260300e+03</td>\n",
       "      <td>2.300000e+01</td>\n",
       "      <td>6.000000e+00</td>\n",
       "      <td>1.450000e+01</td>\n",
       "    </tr>\n",
       "  </tbody>\n",
       "</table>\n",
       "</div>"
      ],
      "text/plain": [
       "       passenger_count  trip_distance  PULocationID  DOLocationID  \\\n",
       "count     2.865071e+06   2.865071e+06  2.865071e+06  2.865071e+06   \n",
       "mean      1.502471e+00   2.857333e+00  1.638591e+02  1.612875e+02   \n",
       "std       1.114228e+00   3.621730e+00  6.632229e+01  7.049968e+01   \n",
       "min       1.000000e+00   1.000000e-02  1.000000e+00  1.000000e+00   \n",
       "25%       1.000000e+00   1.000000e+00  1.160000e+02  1.070000e+02   \n",
       "50%       1.000000e+00   1.680000e+00  1.620000e+02  1.620000e+02   \n",
       "75%       1.000000e+00   3.000000e+00  2.340000e+02  2.340000e+02   \n",
       "max       6.000000e+00   3.109000e+02  2.650000e+02  2.650000e+02   \n",
       "\n",
       "         tip_amount  tolls_amount  total_amount   pickup_hour   day_of_week  \\\n",
       "count  2.865071e+06  2.865071e+06  2.865071e+06  2.865071e+06  2.865071e+06   \n",
       "mean   2.167280e+00  2.871333e-01  1.817053e+01  1.375307e+01  2.852497e+00   \n",
       "std    2.590817e+00  1.565552e+00  1.323655e+01  5.788176e+00  1.988705e+00   \n",
       "min    0.000000e+00  0.000000e+00  3.100000e-01  0.000000e+00  0.000000e+00   \n",
       "25%    0.000000e+00  0.000000e+00  1.116000e+01  1.000000e+01  1.000000e+00   \n",
       "50%    1.960000e+00  0.000000e+00  1.430000e+01  1.400000e+01  3.000000e+00   \n",
       "75%    2.860000e+00  0.000000e+00  1.975000e+01  1.800000e+01  4.000000e+00   \n",
       "max    4.932200e+02  6.010200e+02  1.260300e+03  2.300000e+01  6.000000e+00   \n",
       "\n",
       "               tavg  \n",
       "count  2.865071e+06  \n",
       "mean   9.259619e+00  \n",
       "std    3.263758e+00  \n",
       "min    2.400000e+00  \n",
       "25%    7.600000e+00  \n",
       "50%    9.100000e+00  \n",
       "75%    1.090000e+01  \n",
       "max    1.450000e+01  "
      ]
     },
     "execution_count": 27,
     "metadata": {},
     "output_type": "execute_result"
    }
   ],
   "source": [
    "X.describe()"
   ]
  },
  {
   "cell_type": "code",
   "execution_count": 28,
   "id": "fda282fc",
   "metadata": {},
   "outputs": [],
   "source": [
    "### Split the data into training and test data (80-20)\n",
    "x_train, x_test, y_train, y_test = train_test_split(X,y,test_size=0.2)"
   ]
  },
  {
   "cell_type": "code",
   "execution_count": 29,
   "id": "a428c5ce",
   "metadata": {},
   "outputs": [
    {
     "name": "stdout",
     "output_type": "stream",
     "text": [
      "(2292056, 10) (573015, 10)\n"
     ]
    }
   ],
   "source": [
    "print(x_train.shape,x_test.shape)"
   ]
  },
  {
   "cell_type": "code",
   "execution_count": 30,
   "id": "d040b863",
   "metadata": {},
   "outputs": [],
   "source": [
    "### Normaizing the variables \n",
    "scaler = MinMaxScaler()\n",
    "x_train = scaler.fit_transform(x_train)\n",
    "x_test = scaler.fit_transform(x_test)\n",
    "y_train = scaler.fit_transform(y_train)\n",
    "y_test = scaler.fit_transform(y_test)"
   ]
  },
  {
   "cell_type": "code",
   "execution_count": 31,
   "id": "bed58938",
   "metadata": {},
   "outputs": [
    {
     "data": {
      "text/plain": [
       "numpy.ndarray"
      ]
     },
     "execution_count": 31,
     "metadata": {},
     "output_type": "execute_result"
    }
   ],
   "source": [
    "type(y_train)"
   ]
  },
  {
   "cell_type": "code",
   "execution_count": 32,
   "id": "e677d79c",
   "metadata": {},
   "outputs": [
    {
     "name": "stdout",
     "output_type": "stream",
     "text": [
      "[[0.         0.03438515 0.98863636 ... 0.17391304 1.         0.        ]\n",
      " [0.         0.04406703 0.86742424 ... 0.82608696 0.83333333 0.63636364]\n",
      " [0.         0.00411721 0.88257576 ... 0.69565217 0.         0.90909091]\n",
      " ...\n",
      " [0.         0.00421371 0.89772727 ... 0.30434783 0.5        0.47933884]\n",
      " [0.         0.00887774 0.53787879 ... 0.7826087  0.66666667 0.88429752]\n",
      " [0.         0.01026086 0.99242424 ... 0.30434783 1.         0.90909091]]\n"
     ]
    }
   ],
   "source": [
    "print(x_train)"
   ]
  },
  {
   "cell_type": "code",
   "execution_count": 33,
   "id": "8fae224c",
   "metadata": {},
   "outputs": [
    {
     "data": {
      "text/html": [
       "<div>\n",
       "<style scoped>\n",
       "    .dataframe tbody tr th:only-of-type {\n",
       "        vertical-align: middle;\n",
       "    }\n",
       "\n",
       "    .dataframe tbody tr th {\n",
       "        vertical-align: top;\n",
       "    }\n",
       "\n",
       "    .dataframe thead th {\n",
       "        text-align: right;\n",
       "    }\n",
       "</style>\n",
       "<table border=\"1\" class=\"dataframe\">\n",
       "  <thead>\n",
       "    <tr style=\"text-align: right;\">\n",
       "      <th></th>\n",
       "      <th>passenger_count</th>\n",
       "      <th>trip_distance</th>\n",
       "      <th>PULocationID</th>\n",
       "      <th>DOLocationID</th>\n",
       "      <th>tip_amount</th>\n",
       "      <th>tolls_amount</th>\n",
       "      <th>total_amount</th>\n",
       "      <th>pickup_hour</th>\n",
       "      <th>day_of_week</th>\n",
       "      <th>tavg</th>\n",
       "    </tr>\n",
       "  </thead>\n",
       "  <tbody>\n",
       "    <tr>\n",
       "      <th>0</th>\n",
       "      <td>0.0</td>\n",
       "      <td>0.015086</td>\n",
       "      <td>0.329545</td>\n",
       "      <td>0.962121</td>\n",
       "      <td>0.004055</td>\n",
       "      <td>0.0</td>\n",
       "      <td>0.021818</td>\n",
       "      <td>0.0</td>\n",
       "      <td>1.0</td>\n",
       "      <td>0.0</td>\n",
       "    </tr>\n",
       "    <tr>\n",
       "      <th>1</th>\n",
       "      <td>0.0</td>\n",
       "      <td>0.003506</td>\n",
       "      <td>0.928030</td>\n",
       "      <td>0.337121</td>\n",
       "      <td>0.003954</td>\n",
       "      <td>0.0</td>\n",
       "      <td>0.009079</td>\n",
       "      <td>0.0</td>\n",
       "      <td>1.0</td>\n",
       "      <td>0.0</td>\n",
       "    </tr>\n",
       "    <tr>\n",
       "      <th>2</th>\n",
       "      <td>0.2</td>\n",
       "      <td>0.002766</td>\n",
       "      <td>0.568182</td>\n",
       "      <td>0.897727</td>\n",
       "      <td>0.003568</td>\n",
       "      <td>0.0</td>\n",
       "      <td>0.008135</td>\n",
       "      <td>0.0</td>\n",
       "      <td>1.0</td>\n",
       "      <td>0.0</td>\n",
       "    </tr>\n",
       "    <tr>\n",
       "      <th>3</th>\n",
       "      <td>0.0</td>\n",
       "      <td>0.011226</td>\n",
       "      <td>0.424242</td>\n",
       "      <td>0.534091</td>\n",
       "      <td>0.007603</td>\n",
       "      <td>0.0</td>\n",
       "      <td>0.017651</td>\n",
       "      <td>0.0</td>\n",
       "      <td>1.0</td>\n",
       "      <td>0.0</td>\n",
       "    </tr>\n",
       "    <tr>\n",
       "      <th>4</th>\n",
       "      <td>0.0</td>\n",
       "      <td>0.045321</td>\n",
       "      <td>0.893939</td>\n",
       "      <td>0.049242</td>\n",
       "      <td>0.017943</td>\n",
       "      <td>0.0</td>\n",
       "      <td>0.041937</td>\n",
       "      <td>0.0</td>\n",
       "      <td>1.0</td>\n",
       "      <td>0.0</td>\n",
       "    </tr>\n",
       "  </tbody>\n",
       "</table>\n",
       "</div>"
      ],
      "text/plain": [
       "   passenger_count  trip_distance  PULocationID  DOLocationID  tip_amount  \\\n",
       "0              0.0       0.015086      0.329545      0.962121    0.004055   \n",
       "1              0.0       0.003506      0.928030      0.337121    0.003954   \n",
       "2              0.2       0.002766      0.568182      0.897727    0.003568   \n",
       "3              0.0       0.011226      0.424242      0.534091    0.007603   \n",
       "4              0.0       0.045321      0.893939      0.049242    0.017943   \n",
       "\n",
       "   tolls_amount  total_amount  pickup_hour  day_of_week  tavg  \n",
       "0           0.0      0.021818          0.0          1.0   0.0  \n",
       "1           0.0      0.009079          0.0          1.0   0.0  \n",
       "2           0.0      0.008135          0.0          1.0   0.0  \n",
       "3           0.0      0.017651          0.0          1.0   0.0  \n",
       "4           0.0      0.041937          0.0          1.0   0.0  "
      ]
     },
     "execution_count": 33,
     "metadata": {},
     "output_type": "execute_result"
    }
   ],
   "source": [
    "### check the scaled data\n",
    "dfTest = X.copy()\n",
    "dfTest[pred_cols] = scaler.fit_transform(X[pred_cols])\n",
    "dfTest.head()"
   ]
  },
  {
   "cell_type": "code",
   "execution_count": 34,
   "id": "b95afe18",
   "metadata": {},
   "outputs": [
    {
     "data": {
      "text/html": [
       "<style>#sk-container-id-1 {color: black;background-color: white;}#sk-container-id-1 pre{padding: 0;}#sk-container-id-1 div.sk-toggleable {background-color: white;}#sk-container-id-1 label.sk-toggleable__label {cursor: pointer;display: block;width: 100%;margin-bottom: 0;padding: 0.3em;box-sizing: border-box;text-align: center;}#sk-container-id-1 label.sk-toggleable__label-arrow:before {content: \"▸\";float: left;margin-right: 0.25em;color: #696969;}#sk-container-id-1 label.sk-toggleable__label-arrow:hover:before {color: black;}#sk-container-id-1 div.sk-estimator:hover label.sk-toggleable__label-arrow:before {color: black;}#sk-container-id-1 div.sk-toggleable__content {max-height: 0;max-width: 0;overflow: hidden;text-align: left;background-color: #f0f8ff;}#sk-container-id-1 div.sk-toggleable__content pre {margin: 0.2em;color: black;border-radius: 0.25em;background-color: #f0f8ff;}#sk-container-id-1 input.sk-toggleable__control:checked~div.sk-toggleable__content {max-height: 200px;max-width: 100%;overflow: auto;}#sk-container-id-1 input.sk-toggleable__control:checked~label.sk-toggleable__label-arrow:before {content: \"▾\";}#sk-container-id-1 div.sk-estimator input.sk-toggleable__control:checked~label.sk-toggleable__label {background-color: #d4ebff;}#sk-container-id-1 div.sk-label input.sk-toggleable__control:checked~label.sk-toggleable__label {background-color: #d4ebff;}#sk-container-id-1 input.sk-hidden--visually {border: 0;clip: rect(1px 1px 1px 1px);clip: rect(1px, 1px, 1px, 1px);height: 1px;margin: -1px;overflow: hidden;padding: 0;position: absolute;width: 1px;}#sk-container-id-1 div.sk-estimator {font-family: monospace;background-color: #f0f8ff;border: 1px dotted black;border-radius: 0.25em;box-sizing: border-box;margin-bottom: 0.5em;}#sk-container-id-1 div.sk-estimator:hover {background-color: #d4ebff;}#sk-container-id-1 div.sk-parallel-item::after {content: \"\";width: 100%;border-bottom: 1px solid gray;flex-grow: 1;}#sk-container-id-1 div.sk-label:hover label.sk-toggleable__label {background-color: #d4ebff;}#sk-container-id-1 div.sk-serial::before {content: \"\";position: absolute;border-left: 1px solid gray;box-sizing: border-box;top: 0;bottom: 0;left: 50%;z-index: 0;}#sk-container-id-1 div.sk-serial {display: flex;flex-direction: column;align-items: center;background-color: white;padding-right: 0.2em;padding-left: 0.2em;position: relative;}#sk-container-id-1 div.sk-item {position: relative;z-index: 1;}#sk-container-id-1 div.sk-parallel {display: flex;align-items: stretch;justify-content: center;background-color: white;position: relative;}#sk-container-id-1 div.sk-item::before, #sk-container-id-1 div.sk-parallel-item::before {content: \"\";position: absolute;border-left: 1px solid gray;box-sizing: border-box;top: 0;bottom: 0;left: 50%;z-index: -1;}#sk-container-id-1 div.sk-parallel-item {display: flex;flex-direction: column;z-index: 1;position: relative;background-color: white;}#sk-container-id-1 div.sk-parallel-item:first-child::after {align-self: flex-end;width: 50%;}#sk-container-id-1 div.sk-parallel-item:last-child::after {align-self: flex-start;width: 50%;}#sk-container-id-1 div.sk-parallel-item:only-child::after {width: 0;}#sk-container-id-1 div.sk-dashed-wrapped {border: 1px dashed gray;margin: 0 0.4em 0.5em 0.4em;box-sizing: border-box;padding-bottom: 0.4em;background-color: white;}#sk-container-id-1 div.sk-label label {font-family: monospace;font-weight: bold;display: inline-block;line-height: 1.2em;}#sk-container-id-1 div.sk-label-container {text-align: center;}#sk-container-id-1 div.sk-container {/* jupyter's `normalize.less` sets `[hidden] { display: none; }` but bootstrap.min.css set `[hidden] { display: none !important; }` so we also need the `!important` here to be able to override the default hidden behavior on the sphinx rendered scikit-learn.org. See: https://github.com/scikit-learn/scikit-learn/issues/21755 */display: inline-block !important;position: relative;}#sk-container-id-1 div.sk-text-repr-fallback {display: none;}</style><div id=\"sk-container-id-1\" class=\"sk-top-container\"><div class=\"sk-text-repr-fallback\"><pre>LinearRegression()</pre><b>In a Jupyter environment, please rerun this cell to show the HTML representation or trust the notebook. <br />On GitHub, the HTML representation is unable to render, please try loading this page with nbviewer.org.</b></div><div class=\"sk-container\" hidden><div class=\"sk-item\"><div class=\"sk-estimator sk-toggleable\"><input class=\"sk-toggleable__control sk-hidden--visually\" id=\"sk-estimator-id-1\" type=\"checkbox\" checked><label for=\"sk-estimator-id-1\" class=\"sk-toggleable__label sk-toggleable__label-arrow\">LinearRegression</label><div class=\"sk-toggleable__content\"><pre>LinearRegression()</pre></div></div></div></div></div>"
      ],
      "text/plain": [
       "LinearRegression()"
      ]
     },
     "execution_count": 34,
     "metadata": {},
     "output_type": "execute_result"
    }
   ],
   "source": [
    "###Simple linear regession model\n",
    "from sklearn.linear_model import LinearRegression\n",
    "\n",
    "simpleLRmodel = LinearRegression()\n",
    "simpleLRmodel.fit(x_train,y_train)"
   ]
  },
  {
   "cell_type": "code",
   "execution_count": 35,
   "id": "cf92a691",
   "metadata": {},
   "outputs": [
    {
     "data": {
      "text/plain": [
       "array([[ 2.83920079e-03,  2.90803720e-02, -2.56359038e-04,\n",
       "        -4.94466559e-04, -3.90730635e-01, -6.65494523e-01,\n",
       "         6.37670410e-01, -5.28713137e-04, -3.12247395e-04,\n",
       "        -7.01008098e-05]])"
      ]
     },
     "execution_count": 35,
     "metadata": {},
     "output_type": "execute_result"
    }
   ],
   "source": [
    "simpleLRmodel.coef_"
   ]
  },
  {
   "cell_type": "code",
   "execution_count": 36,
   "id": "8340023c",
   "metadata": {},
   "outputs": [
    {
     "name": "stdout",
     "output_type": "stream",
     "text": [
      "0.001758684518488427 0.004907954968282956\n"
     ]
    }
   ],
   "source": [
    "import math\n",
    "from sklearn.metrics import mean_absolute_error,mean_squared_error\n",
    "\n",
    "prediction = simpleLRmodel.predict(x_test)\n",
    "mse1 = mean_squared_error(y_test,prediction)\n",
    "mae = (mean_absolute_error(y_test,prediction))\n",
    "\n",
    "print(mse1,mae)"
   ]
  },
  {
   "cell_type": "markdown",
   "id": "17b800c5",
   "metadata": {},
   "source": [
    "### Import the  libraries for deep learning models"
   ]
  },
  {
   "cell_type": "code",
   "execution_count": 37,
   "id": "b3f2f769",
   "metadata": {},
   "outputs": [],
   "source": [
    "from tensorflow.keras.models import Sequential\n",
    "from tensorflow.keras.layers import Dense\n",
    "from tensorflow.keras import layers"
   ]
  },
  {
   "cell_type": "code",
   "execution_count": 38,
   "id": "0e51354b",
   "metadata": {},
   "outputs": [],
   "source": [
    "%load_ext tensorboard"
   ]
  },
  {
   "cell_type": "markdown",
   "id": "c04a5347",
   "metadata": {},
   "source": [
    "### Multi layer Perceptron"
   ]
  },
  {
   "cell_type": "code",
   "execution_count": 39,
   "id": "44b09915",
   "metadata": {},
   "outputs": [],
   "source": [
    "from sklearn.neural_network import MLPRegressor\n",
    "from sklearn import metrics"
   ]
  },
  {
   "cell_type": "code",
   "execution_count": 40,
   "id": "f8ec95a0",
   "metadata": {},
   "outputs": [
    {
     "name": "stderr",
     "output_type": "stream",
     "text": [
      "C:\\Users\\amite\\anaconda3\\lib\\site-packages\\sklearn\\neural_network\\_multilayer_perceptron.py:1607: DataConversionWarning: A column-vector y was passed when a 1d array was expected. Please change the shape of y to (n_samples, ), for example using ravel().\n",
      "  y = column_or_1d(y, warn=True)\n",
      "C:\\Users\\amite\\anaconda3\\lib\\site-packages\\sklearn\\neural_network\\_multilayer_perceptron.py:702: ConvergenceWarning: Stochastic Optimizer: Maximum iterations (10) reached and the optimization hasn't converged yet.\n",
      "  warnings.warn(\n"
     ]
    }
   ],
   "source": [
    "regr = MLPRegressor(random_state=1, max_iter=10).fit(x_train, y_train)"
   ]
  },
  {
   "cell_type": "code",
   "execution_count": 41,
   "id": "35e86a49",
   "metadata": {},
   "outputs": [],
   "source": [
    "prediction = regr.predict(x_test)"
   ]
  },
  {
   "cell_type": "code",
   "execution_count": 42,
   "id": "a62aa587",
   "metadata": {},
   "outputs": [
    {
     "name": "stdout",
     "output_type": "stream",
     "text": [
      "0.0017303097415585715\n"
     ]
    }
   ],
   "source": [
    "print(metrics.mean_squared_error(y_test, prediction))"
   ]
  },
  {
   "cell_type": "code",
   "execution_count": 43,
   "id": "5af6c563",
   "metadata": {},
   "outputs": [],
   "source": [
    "mlp = Sequential()\n",
    "mlp.add(Dense(10, input_shape=(10,),activation='relu'))\n",
    "mlp.add(Dense(30,activation='relu'))\n",
    "mlp.add(Dense(20,activation='relu'))\n",
    "mlp.add(Dense(10,activation='relu'))\n",
    "mlp.add(Dense(1))"
   ]
  },
  {
   "cell_type": "code",
   "execution_count": 44,
   "id": "57b737c8",
   "metadata": {},
   "outputs": [],
   "source": [
    "# compile the keras model\n",
    "mlp.compile(loss='mse', optimizer='adam')"
   ]
  },
  {
   "cell_type": "code",
   "execution_count": 45,
   "id": "c5907372",
   "metadata": {},
   "outputs": [
    {
     "name": "stdout",
     "output_type": "stream",
     "text": [
      "Model: \"sequential\"\n",
      "_________________________________________________________________\n",
      " Layer (type)                Output Shape              Param #   \n",
      "=================================================================\n",
      " dense (Dense)               (None, 10)                110       \n",
      "                                                                 \n",
      " dense_1 (Dense)             (None, 30)                330       \n",
      "                                                                 \n",
      " dense_2 (Dense)             (None, 20)                620       \n",
      "                                                                 \n",
      " dense_3 (Dense)             (None, 10)                210       \n",
      "                                                                 \n",
      " dense_4 (Dense)             (None, 1)                 11        \n",
      "                                                                 \n",
      "=================================================================\n",
      "Total params: 1,281\n",
      "Trainable params: 1,281\n",
      "Non-trainable params: 0\n",
      "_________________________________________________________________\n"
     ]
    }
   ],
   "source": [
    "mlp.summary()"
   ]
  },
  {
   "cell_type": "code",
   "execution_count": 46,
   "id": "02d0c6b1",
   "metadata": {},
   "outputs": [],
   "source": [
    "log_dir = \"logs/MLPmodel/\" + datetime.datetime.now().strftime(\"%Y%m%d-%H%M%S\")\n",
    "tensorboard_callback = tf.keras.callbacks.TensorBoard(log_dir=log_dir, histogram_freq=1)"
   ]
  },
  {
   "cell_type": "code",
   "execution_count": 47,
   "id": "0e328216",
   "metadata": {},
   "outputs": [],
   "source": [
    "### Split the training data into validation dataset \n",
    "x_train, x_val, y_train, y_val = train_test_split(x_train,y_train,test_size=0.2)"
   ]
  },
  {
   "cell_type": "code",
   "execution_count": 48,
   "id": "29c9a4fa",
   "metadata": {},
   "outputs": [
    {
     "name": "stdout",
     "output_type": "stream",
     "text": [
      "(1833644, 10) (458412, 10)\n"
     ]
    }
   ],
   "source": [
    "print(x_train.shape,x_val.shape)"
   ]
  },
  {
   "cell_type": "code",
   "execution_count": 49,
   "id": "f6e20097",
   "metadata": {},
   "outputs": [
    {
     "name": "stdout",
     "output_type": "stream",
     "text": [
      "Epoch 1/10\n",
      "28651/28651 [==============================] - 82s 3ms/step - loss: 0.0017 - val_loss: 0.0018\n",
      "Epoch 2/10\n",
      "28651/28651 [==============================] - 54s 2ms/step - loss: 0.0017 - val_loss: 0.0018\n",
      "Epoch 3/10\n",
      "28651/28651 [==============================] - 61s 2ms/step - loss: 0.0017 - val_loss: 0.0018\n",
      "Epoch 4/10\n",
      "28651/28651 [==============================] - 52s 2ms/step - loss: 0.0017 - val_loss: 0.0018\n",
      "Epoch 5/10\n",
      "28651/28651 [==============================] - 51s 2ms/step - loss: 0.0017 - val_loss: 0.0018\n",
      "Epoch 6/10\n",
      "28651/28651 [==============================] - 50s 2ms/step - loss: 0.0017 - val_loss: 0.0018\n",
      "Epoch 7/10\n",
      "28651/28651 [==============================] - 50s 2ms/step - loss: 0.0017 - val_loss: 0.0018\n",
      "Epoch 8/10\n",
      "28651/28651 [==============================] - 50s 2ms/step - loss: 0.0017 - val_loss: 0.0018\n",
      "Epoch 9/10\n",
      "28651/28651 [==============================] - 55s 2ms/step - loss: 0.0017 - val_loss: 0.0018\n",
      "Epoch 10/10\n",
      "28651/28651 [==============================] - 55s 2ms/step - loss: 0.0017 - val_loss: 0.0018\n"
     ]
    }
   ],
   "source": [
    "history1 = mlp.fit(x_train, y_train, epochs=10,batch_size=64,\n",
    "                           validation_data=(x_val,y_val),\n",
    "                  callbacks=[tensorboard_callback])"
   ]
  },
  {
   "cell_type": "code",
   "execution_count": 50,
   "id": "9d0ac83d",
   "metadata": {},
   "outputs": [
    {
     "data": {
      "text/html": [
       "\n",
       "      <iframe id=\"tensorboard-frame-6ee2a64ca26e71f3\" width=\"100%\" height=\"800\" frameborder=\"0\">\n",
       "      </iframe>\n",
       "      <script>\n",
       "        (function() {\n",
       "          const frame = document.getElementById(\"tensorboard-frame-6ee2a64ca26e71f3\");\n",
       "          const url = new URL(\"/\", window.location);\n",
       "          const port = 6006;\n",
       "          if (port) {\n",
       "            url.port = port;\n",
       "          }\n",
       "          frame.src = url;\n",
       "        })();\n",
       "      </script>\n",
       "    "
      ],
      "text/plain": [
       "<IPython.core.display.HTML object>"
      ]
     },
     "metadata": {},
     "output_type": "display_data"
    }
   ],
   "source": [
    "%tensorboard --logdir logs/MLPmodel/"
   ]
  },
  {
   "cell_type": "markdown",
   "id": "80896365",
   "metadata": {},
   "source": [
    "### Linear Regression with no hidden layer"
   ]
  },
  {
   "cell_type": "code",
   "execution_count": 51,
   "id": "4712e4c9",
   "metadata": {},
   "outputs": [],
   "source": [
    "model2_nohid = Sequential()\n",
    "model2_nohid.add(Dense(1))"
   ]
  },
  {
   "cell_type": "code",
   "execution_count": 52,
   "id": "bc8b4ede",
   "metadata": {},
   "outputs": [],
   "source": [
    "# compile the keras model\n",
    "model2_nohid.compile(loss='mse', optimizer='sgd')"
   ]
  },
  {
   "cell_type": "code",
   "execution_count": 53,
   "id": "77bc07cd",
   "metadata": {},
   "outputs": [],
   "source": [
    "log_dir = \"logs/LRmodel/\" + datetime.datetime.now().strftime(\"%Y%m%d-%H%M%S\")\n",
    "tensorboard_callback = tf.keras.callbacks.TensorBoard(log_dir=log_dir, histogram_freq=1)"
   ]
  },
  {
   "cell_type": "code",
   "execution_count": 55,
   "id": "002966eb",
   "metadata": {},
   "outputs": [
    {
     "name": "stdout",
     "output_type": "stream",
     "text": [
      "Epoch 1/10\n",
      "7163/7163 [==============================] - 11s 2ms/step - loss: 0.0045 - val_loss: 0.0020\n",
      "Epoch 2/10\n",
      "7163/7163 [==============================] - 11s 2ms/step - loss: 0.0020 - val_loss: 0.0020\n",
      "Epoch 3/10\n",
      "7163/7163 [==============================] - 16s 2ms/step - loss: 0.0019 - val_loss: 0.0020\n",
      "Epoch 4/10\n",
      "7163/7163 [==============================] - 22s 3ms/step - loss: 0.0019 - val_loss: 0.0020\n",
      "Epoch 5/10\n",
      "7163/7163 [==============================] - 14s 2ms/step - loss: 0.0019 - val_loss: 0.0019\n",
      "Epoch 6/10\n",
      "7163/7163 [==============================] - 13s 2ms/step - loss: 0.0019 - val_loss: 0.0019\n",
      "Epoch 7/10\n",
      "7163/7163 [==============================] - 16s 2ms/step - loss: 0.0019 - val_loss: 0.0019\n",
      "Epoch 8/10\n",
      "7163/7163 [==============================] - 11s 2ms/step - loss: 0.0019 - val_loss: 0.0019\n",
      "Epoch 9/10\n",
      "7163/7163 [==============================] - 11s 2ms/step - loss: 0.0019 - val_loss: 0.0019\n",
      "Epoch 10/10\n",
      "7163/7163 [==============================] - 13s 2ms/step - loss: 0.0018 - val_loss: 0.0019\n"
     ]
    }
   ],
   "source": [
    "# fit the keras model on the dataset\n",
    "# The training loss indicates how well the model is fitting the training data,\n",
    "# while the validation loss indicates how well the model fits new data.\n",
    "history2 = model2_nohid.fit(x_train, y_train, epochs=10,batch_size = 256,\n",
    "                           validation_data=(x_val, y_val),\n",
    "                           callbacks=[tensorboard_callback])"
   ]
  },
  {
   "cell_type": "code",
   "execution_count": 56,
   "id": "647e4798",
   "metadata": {},
   "outputs": [
    {
     "name": "stdout",
     "output_type": "stream",
     "text": [
      "Model: \"sequential_1\"\n",
      "_________________________________________________________________\n",
      " Layer (type)                Output Shape              Param #   \n",
      "=================================================================\n",
      " dense_5 (Dense)             (None, 1)                 11        \n",
      "                                                                 \n",
      "=================================================================\n",
      "Total params: 11\n",
      "Trainable params: 11\n",
      "Non-trainable params: 0\n",
      "_________________________________________________________________\n"
     ]
    }
   ],
   "source": [
    "model2_nohid.summary()"
   ]
  },
  {
   "cell_type": "code",
   "execution_count": 57,
   "id": "6e9de8ad",
   "metadata": {},
   "outputs": [],
   "source": [
    "%reload_ext tensorboard"
   ]
  },
  {
   "cell_type": "code",
   "execution_count": 58,
   "id": "91f31046",
   "metadata": {},
   "outputs": [
    {
     "data": {
      "text/html": [
       "\n",
       "      <iframe id=\"tensorboard-frame-5748d5cf98da4fde\" width=\"100%\" height=\"800\" frameborder=\"0\">\n",
       "      </iframe>\n",
       "      <script>\n",
       "        (function() {\n",
       "          const frame = document.getElementById(\"tensorboard-frame-5748d5cf98da4fde\");\n",
       "          const url = new URL(\"/\", window.location);\n",
       "          const port = 6006;\n",
       "          if (port) {\n",
       "            url.port = port;\n",
       "          }\n",
       "          frame.src = url;\n",
       "        })();\n",
       "      </script>\n",
       "    "
      ],
      "text/plain": [
       "<IPython.core.display.HTML object>"
      ]
     },
     "metadata": {},
     "output_type": "display_data"
    }
   ],
   "source": [
    "%tensorboard --logdir logs/LRmodel/"
   ]
  },
  {
   "cell_type": "markdown",
   "id": "d40cd598",
   "metadata": {},
   "source": [
    "### Deep Neural Network with 2 hidden layers"
   ]
  },
  {
   "cell_type": "code",
   "execution_count": 59,
   "id": "b3a292f0",
   "metadata": {},
   "outputs": [],
   "source": [
    "dnn_model = Sequential()\n",
    "dnn_model.add(Dense(10, input_shape=(10,),activation='relu'))\n",
    "dnn_model.add(Dense(30,activation='relu'))\n",
    "dnn_model.add(Dense(20, input_shape=(10,),activation='relu'))\n",
    "dnn_model.add(Dense(1))"
   ]
  },
  {
   "cell_type": "code",
   "execution_count": 60,
   "id": "69485343",
   "metadata": {},
   "outputs": [],
   "source": [
    "# compile the keras model\n",
    "dnn_model.compile(loss='mse', optimizer='adam')"
   ]
  },
  {
   "cell_type": "code",
   "execution_count": 61,
   "id": "3c76c59a",
   "metadata": {},
   "outputs": [
    {
     "name": "stdout",
     "output_type": "stream",
     "text": [
      "Model: \"sequential_2\"\n",
      "_________________________________________________________________\n",
      " Layer (type)                Output Shape              Param #   \n",
      "=================================================================\n",
      " dense_6 (Dense)             (None, 10)                110       \n",
      "                                                                 \n",
      " dense_7 (Dense)             (None, 30)                330       \n",
      "                                                                 \n",
      " dense_8 (Dense)             (None, 20)                620       \n",
      "                                                                 \n",
      " dense_9 (Dense)             (None, 1)                 21        \n",
      "                                                                 \n",
      "=================================================================\n",
      "Total params: 1,081\n",
      "Trainable params: 1,081\n",
      "Non-trainable params: 0\n",
      "_________________________________________________________________\n"
     ]
    }
   ],
   "source": [
    "dnn_model.summary()"
   ]
  },
  {
   "cell_type": "code",
   "execution_count": 62,
   "id": "fc138c82",
   "metadata": {},
   "outputs": [],
   "source": [
    "log_dir = \"logs/MLPmodel/\" + datetime.datetime.now().strftime(\"%Y%m%d\")\n",
    "tensorboard_callback = tf.keras.callbacks.TensorBoard(log_dir=log_dir, histogram_freq=1)"
   ]
  },
  {
   "cell_type": "code",
   "execution_count": 63,
   "id": "59df7b0a",
   "metadata": {},
   "outputs": [
    {
     "name": "stdout",
     "output_type": "stream",
     "text": [
      "Epoch 1/5\n",
      "14326/14326 [==============================] - 30s 2ms/step - loss: 0.0018 - val_loss: 0.0018\n",
      "Epoch 2/5\n",
      "14326/14326 [==============================] - 25s 2ms/step - loss: 0.0017 - val_loss: 0.0018\n",
      "Epoch 3/5\n",
      "14326/14326 [==============================] - 25s 2ms/step - loss: 0.0017 - val_loss: 0.0018\n",
      "Epoch 4/5\n",
      "14326/14326 [==============================] - 25s 2ms/step - loss: 0.0017 - val_loss: 0.0018\n",
      "Epoch 5/5\n",
      "14326/14326 [==============================] - 25s 2ms/step - loss: 0.0017 - val_loss: 0.0018\n"
     ]
    }
   ],
   "source": [
    "history3 = dnn_model.fit(x_train, y_train, epochs=5,batch_size=128,\n",
    "                           validation_data=(x_val, y_val),\n",
    "                           callbacks=[tensorboard_callback])"
   ]
  },
  {
   "cell_type": "code",
   "execution_count": 64,
   "id": "1c18c4da",
   "metadata": {},
   "outputs": [
    {
     "data": {
      "text/plain": [
       "Reusing TensorBoard on port 6006 (pid 13472), started 0:10:05 ago. (Use '!kill 13472' to kill it.)"
      ]
     },
     "metadata": {},
     "output_type": "display_data"
    },
    {
     "data": {
      "text/html": [
       "\n",
       "      <iframe id=\"tensorboard-frame-1acee7e7d45f1e80\" width=\"100%\" height=\"800\" frameborder=\"0\">\n",
       "      </iframe>\n",
       "      <script>\n",
       "        (function() {\n",
       "          const frame = document.getElementById(\"tensorboard-frame-1acee7e7d45f1e80\");\n",
       "          const url = new URL(\"/\", window.location);\n",
       "          const port = 6006;\n",
       "          if (port) {\n",
       "            url.port = port;\n",
       "          }\n",
       "          frame.src = url;\n",
       "        })();\n",
       "      </script>\n",
       "    "
      ],
      "text/plain": [
       "<IPython.core.display.HTML object>"
      ]
     },
     "metadata": {},
     "output_type": "display_data"
    }
   ],
   "source": [
    "%tensorboard --logdir logs/MLPmodel/"
   ]
  },
  {
   "cell_type": "code",
   "execution_count": 65,
   "id": "951016bc",
   "metadata": {},
   "outputs": [],
   "source": [
    "## Loss function is MAE and Optimizer is SGD\n",
    "dnn_model.compile(loss='mae', optimizer='sgd')"
   ]
  },
  {
   "cell_type": "code",
   "execution_count": 67,
   "id": "b2de5e84",
   "metadata": {
    "scrolled": true
   },
   "outputs": [
    {
     "name": "stdout",
     "output_type": "stream",
     "text": [
      "Epoch 1/10\n",
      "7163/7163 [==============================] - 19s 3ms/step - loss: 0.0067 - val_loss: 0.0058\n",
      "Epoch 2/10\n",
      "7163/7163 [==============================] - 19s 3ms/step - loss: 0.0067 - val_loss: 0.0071\n",
      "Epoch 3/10\n",
      "7163/7163 [==============================] - 16s 2ms/step - loss: 0.0067 - val_loss: 0.0061\n",
      "Epoch 4/10\n",
      "7163/7163 [==============================] - 17s 2ms/step - loss: 0.0067 - val_loss: 0.0068\n",
      "Epoch 5/10\n",
      "7163/7163 [==============================] - 21s 3ms/step - loss: 0.0067 - val_loss: 0.0064\n",
      "Epoch 6/10\n",
      "7163/7163 [==============================] - 14s 2ms/step - loss: 0.0067 - val_loss: 0.0074\n",
      "Epoch 7/10\n",
      "7163/7163 [==============================] - 22s 3ms/step - loss: 0.0067 - val_loss: 0.0061\n",
      "Epoch 8/10\n",
      "7163/7163 [==============================] - 25s 4ms/step - loss: 0.0067 - val_loss: 0.0077\n",
      "Epoch 9/10\n",
      "7163/7163 [==============================] - 17s 2ms/step - loss: 0.0067 - val_loss: 0.0054\n",
      "Epoch 10/10\n",
      "7163/7163 [==============================] - 15s 2ms/step - loss: 0.0067 - val_loss: 0.0080\n"
     ]
    }
   ],
   "source": [
    "history4 = dnn_model.fit(x_train, y_train, epochs=10,batch_size=256,\n",
    "                           validation_data=(x_val, y_val),\n",
    "                           callbacks=[tensorboard_callback])"
   ]
  },
  {
   "cell_type": "markdown",
   "id": "d5e45bdc",
   "metadata": {},
   "source": [
    "###  Predicting using Linear Regression with no hidden layers model "
   ]
  },
  {
   "cell_type": "code",
   "execution_count": 68,
   "id": "0f62391c",
   "metadata": {},
   "outputs": [
    {
     "name": "stdout",
     "output_type": "stream",
     "text": [
      "17907/17907 [==============================] - 19s 1ms/step\n"
     ]
    }
   ],
   "source": [
    "final_predictions = model2_nohid.predict(x_test)"
   ]
  },
  {
   "cell_type": "code",
   "execution_count": 69,
   "id": "0cbe05b1",
   "metadata": {},
   "outputs": [
    {
     "name": "stdout",
     "output_type": "stream",
     "text": [
      "0.0019393516306308869\n"
     ]
    }
   ],
   "source": [
    "mse2 = mean_squared_error(y_test,final_predictions)\n",
    "print(mse2)"
   ]
  },
  {
   "cell_type": "code",
   "execution_count": 70,
   "id": "944a97d4",
   "metadata": {},
   "outputs": [
    {
     "name": "stdout",
     "output_type": "stream",
     "text": [
      "Simple LR model MSE 0.001758684518488427\n",
      "Sequential model with no hidden layer MSE 0.0019393516306308869\n"
     ]
    }
   ],
   "source": [
    "print (f\"Simple LR model MSE {mse1}\")\n",
    "print(f\"Sequential model with no hidden layer MSE {mse2}\")"
   ]
  },
  {
   "cell_type": "markdown",
   "id": "6336a064",
   "metadata": {},
   "source": [
    "###  Predicting using DNN with 2 hidden layers model "
   ]
  },
  {
   "cell_type": "code",
   "execution_count": 71,
   "id": "bb47c1b9",
   "metadata": {},
   "outputs": [
    {
     "name": "stdout",
     "output_type": "stream",
     "text": [
      "17907/17907 [==============================] - 22s 1ms/step\n"
     ]
    }
   ],
   "source": [
    "#### Predictions with DNN model \n",
    "prediction_dnn = dnn_model.predict(x_test)"
   ]
  },
  {
   "cell_type": "code",
   "execution_count": 72,
   "id": "9a3126e3",
   "metadata": {},
   "outputs": [
    {
     "name": "stdout",
     "output_type": "stream",
     "text": [
      "DNN with 2 hidden layers MSE 0.0017458311661766714\n"
     ]
    }
   ],
   "source": [
    "mse3 = mean_squared_error(y_test,prediction_dnn)\n",
    "print(f\"DNN with 2 hidden layers MSE {mse3}\")"
   ]
  },
  {
   "cell_type": "markdown",
   "id": "6bc13f44",
   "metadata": {},
   "source": [
    "## Best model is DNN with 2 hidden layers on the basis of MSE"
   ]
  }
 ],
 "metadata": {
  "kernelspec": {
   "display_name": "Python 3 (ipykernel)",
   "language": "python",
   "name": "python3"
  },
  "language_info": {
   "codemirror_mode": {
    "name": "ipython",
    "version": 3
   },
   "file_extension": ".py",
   "mimetype": "text/x-python",
   "name": "python",
   "nbconvert_exporter": "python",
   "pygments_lexer": "ipython3",
   "version": "3.9.7"
  }
 },
 "nbformat": 4,
 "nbformat_minor": 5
}
