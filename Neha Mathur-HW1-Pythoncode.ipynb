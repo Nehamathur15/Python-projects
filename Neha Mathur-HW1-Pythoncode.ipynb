{
 "cells": [
  {
   "cell_type": "code",
   "execution_count": 210,
   "id": "5abead39",
   "metadata": {},
   "outputs": [],
   "source": [
    "import numpy as np\n",
    "import pandas as pd\n",
    "import statistics\n",
    "import math"
   ]
  },
  {
   "cell_type": "code",
   "execution_count": 211,
   "id": "51a7ef2d",
   "metadata": {},
   "outputs": [],
   "source": [
    "X = [3,1,2,3,1,4,3,3]\n",
    "Y = [1,4,3,1,1,3]\n",
    "Z = [3,3,1,4,2,1,4,2]"
   ]
  },
  {
   "cell_type": "code",
   "execution_count": 212,
   "id": "2ebc3e09",
   "metadata": {},
   "outputs": [],
   "source": [
    "#1 Mean\n",
    "def calculate_mean(a):\n",
    "    length = len(a)\n",
    "    summation = 0\n",
    "    for i in a:\n",
    "          summation = summation + i\n",
    "    \n",
    "    mean_value = summation / length\n",
    "    \n",
    "    print(\"Mean value is:\", mean_value)"
   ]
  },
  {
   "cell_type": "code",
   "execution_count": 213,
   "id": "0fb282fb",
   "metadata": {},
   "outputs": [
    {
     "name": "stdout",
     "output_type": "stream",
     "text": [
      "Mean value is: 2.5\n",
      "Mean value is: 2.1666666666666665\n",
      "Mean value is: 2.5\n"
     ]
    }
   ],
   "source": [
    "calculate_mean(X)\n",
    "calculate_mean(Y)\n",
    "calculate_mean(Z)"
   ]
  },
  {
   "cell_type": "code",
   "execution_count": 214,
   "id": "075f3d0b",
   "metadata": {},
   "outputs": [],
   "source": [
    "#2 Median\n",
    "def sort_f(a):\n",
    "    a.sort()\n",
    "    return a"
   ]
  },
  {
   "cell_type": "code",
   "execution_count": 215,
   "id": "99245827",
   "metadata": {},
   "outputs": [],
   "source": [
    "def calculate_median(a):\n",
    "    new_list = sort_f(a)\n",
    "    length = len(a) \n",
    "# since index in list starts from 0 we had to subtract 1 to take the correct value    \n",
    "    median_value = (new_list[math.floor((length+1)/2)-1] + new_list[math.ceil((length+1)/2)-1]) /2\n",
    "    print(\"Median vaule is:\",median_value)\n",
    "    return float(median_value)"
   ]
  },
  {
   "cell_type": "code",
   "execution_count": 217,
   "id": "2299c7c2",
   "metadata": {},
   "outputs": [
    {
     "name": "stdout",
     "output_type": "stream",
     "text": [
      "Median vaule is: 3.0\n",
      "Median vaule is: 2.0\n",
      "Median vaule is: 2.5\n"
     ]
    },
    {
     "data": {
      "text/plain": [
       "2.5"
      ]
     },
     "execution_count": 217,
     "metadata": {},
     "output_type": "execute_result"
    }
   ],
   "source": [
    "\n",
    "calculate_median(X)\n",
    "calculate_median(Y)\n",
    "calculate_median(Z)"
   ]
  },
  {
   "cell_type": "code",
   "execution_count": 218,
   "id": "dc73894b",
   "metadata": {},
   "outputs": [],
   "source": [
    "#3 Mode\n",
    "def calculate_mode(a):\n",
    "    new_list = sort_f(a)\n",
    "    \n",
    "    L1=[]\n",
    "    i = 0\n",
    "    while i < len(a) :\n",
    "        L1.append(a.count(a[i]))\n",
    "        i += 1\n",
    "    d1 = dict(zip(a, L1))\n",
    "    d2={k for (k,v) in d1.items() if v == max(L1) }\n",
    "  \n",
    "    print(\"Mode is :\" + str(d2))\n",
    "    return d2"
   ]
  },
  {
   "cell_type": "code",
   "execution_count": 219,
   "id": "021584bc",
   "metadata": {},
   "outputs": [
    {
     "name": "stdout",
     "output_type": "stream",
     "text": [
      "Mode is :{3}\n",
      "Mode is :{1}\n",
      "Mode is :{1, 2, 3, 4}\n"
     ]
    },
    {
     "data": {
      "text/plain": [
       "{1, 2, 3, 4}"
      ]
     },
     "execution_count": 219,
     "metadata": {},
     "output_type": "execute_result"
    }
   ],
   "source": [
    "calculate_mode(X)\n",
    "calculate_mode(Y)\n",
    "calculate_mode(Z)"
   ]
  },
  {
   "cell_type": "code",
   "execution_count": 220,
   "id": "55c76883",
   "metadata": {},
   "outputs": [],
   "source": [
    "#Variance by formula\n",
    "def calculate_var(a):\n",
    "    mean = sum(a) / len(a)\n",
    "    res = sum((i - mean) ** 2 for i in a) / len(a)\n",
    "    \n",
    "    print(\"Variance is:\",res)\n",
    "    stdev = math.sqrt(res)\n",
    "    print(\"Standard deviation is:\",stdev)"
   ]
  },
  {
   "cell_type": "code",
   "execution_count": 225,
   "id": "bf3a0d83",
   "metadata": {},
   "outputs": [
    {
     "name": "stdout",
     "output_type": "stream",
     "text": [
      "Variance is: 1.0\n",
      "Standard deviation is: 1.0\n",
      "Variance is: 1.472222222222222\n",
      "Standard deviation is: 1.2133516482134197\n",
      "Variance is: 1.25\n",
      "Standard deviation is: 1.118033988749895\n"
     ]
    }
   ],
   "source": [
    "calculate_var(X)\n",
    "calculate_var(Y)\n",
    "calculate_var(Z)"
   ]
  },
  {
   "cell_type": "code",
   "execution_count": 222,
   "id": "e60c9e54",
   "metadata": {},
   "outputs": [],
   "source": [
    "#Variance s2\n",
    "def calculate_var_s(a):\n",
    "    mean = sum(a) / len(a)\n",
    "    res = sum((i - mean) ** 2 for i in a) / (len(a)-1)\n",
    "    \n",
    "    print(\"Variance is:\",res)\n",
    "    stdev = math.sqrt(res)\n",
    "    print(\"Standard deviation is:\",stdev)"
   ]
  },
  {
   "cell_type": "code",
   "execution_count": 140,
   "id": "8e548c27",
   "metadata": {},
   "outputs": [
    {
     "name": "stdout",
     "output_type": "stream",
     "text": [
      "Variance is: 1.1428571428571428\n",
      "Standard deviation is: 1.0690449676496976\n",
      "Variance is: 1.7666666666666668\n",
      "Standard deviation is: 1.3291601358251257\n",
      "Variance is: 1.4285714285714286\n",
      "Standard deviation is: 1.1952286093343936\n"
     ]
    }
   ],
   "source": [
    "calculate_var_s(X)\n",
    "calculate_var_s(Y)\n",
    "calculate_var_s(Z)"
   ]
  },
  {
   "cell_type": "code",
   "execution_count": 228,
   "id": "3c523944",
   "metadata": {},
   "outputs": [],
   "source": [
    "#6 MAD around mean\n",
    "def mad_arnd_mean(a):\n",
    "    mean = sum(a) / len(a)\n",
    "    mad_amean = sum(abs(i - mean) for i in a) / len(a)\n",
    "    print(\"MAD around mean is:\",mad_amean)"
   ]
  },
  {
   "cell_type": "code",
   "execution_count": 229,
   "id": "909ec747",
   "metadata": {},
   "outputs": [
    {
     "name": "stdout",
     "output_type": "stream",
     "text": [
      "MAD around mean is: 0.875\n",
      "MAD around mean is: 1.1666666666666667\n",
      "MAD around mean is: 1.0\n"
     ]
    }
   ],
   "source": [
    "mad_arnd_mean(X)\n",
    "mad_arnd_mean(Y)\n",
    "mad_arnd_mean(Z)"
   ]
  },
  {
   "cell_type": "code",
   "execution_count": 230,
   "id": "f5f4bfd6",
   "metadata": {},
   "outputs": [],
   "source": [
    "#7 MAD around median\n",
    "def mad_arnd_median(a):\n",
    "    median = calculate_median(a)\n",
    "    mad_amedian = sum(abs(i - median) for i in a) / len(a)\n",
    "    print(\"MAD around median is:\",mad_amedian)"
   ]
  },
  {
   "cell_type": "code",
   "execution_count": 231,
   "id": "7e923f32",
   "metadata": {},
   "outputs": [
    {
     "name": "stdout",
     "output_type": "stream",
     "text": [
      "Median vaule is: 3.0\n",
      "MAD around median is: 0.75\n",
      "Median vaule is: 2.0\n",
      "MAD around median is: 1.1666666666666667\n",
      "Median vaule is: 2.5\n",
      "MAD around median is: 1.0\n"
     ]
    }
   ],
   "source": [
    "mad_arnd_median(X)\n",
    "mad_arnd_median(Y)\n",
    "mad_arnd_median(Z)"
   ]
  },
  {
   "cell_type": "code",
   "execution_count": 232,
   "id": "350b7e39",
   "metadata": {},
   "outputs": [],
   "source": [
    "#8 MAD around mode\n",
    "def mad_arnd_mode(a):\n",
    "    mode = statistics.mode(a)\n",
    "    mad_amode = sum(abs(i - mode) for i in a) / len(a)\n",
    "    print(\"MAD around mode is:\",mad_amode)"
   ]
  },
  {
   "cell_type": "code",
   "execution_count": 233,
   "id": "1df2e454",
   "metadata": {},
   "outputs": [
    {
     "name": "stdout",
     "output_type": "stream",
     "text": [
      "MAD around mode is: 0.75\n",
      "MAD around mode is: 1.1666666666666667\n",
      "MAD around mode is: 1.5\n"
     ]
    }
   ],
   "source": [
    "mad_arnd_mode(X)\n",
    "mad_arnd_mode(Y)\n",
    "mad_arnd_mode(Z)"
   ]
  },
  {
   "cell_type": "code",
   "execution_count": 234,
   "id": "87ba065f",
   "metadata": {},
   "outputs": [],
   "source": [
    "#9 MPAD\n",
    "def mpad(a,b,c):\n",
    "    if c == 'mean':\n",
    "        mean = sum(a) / len(a)\n",
    "        for i in a:\n",
    "            data_mpad = i - mean\n",
    "            data_mpad = abs(data_mpad)\n",
    "            data_mpad += data_mpad\n",
    "            data_mpad = data_mpad**b\n",
    "      \n",
    "    elif c == 'median':\n",
    "        median = statistics.median(a)\n",
    "        for i in a:\n",
    "            data_mpad = i - median\n",
    "            data_mpad = abs(data_mpad)\n",
    "            data_mpad += data_mpad\n",
    "            data_mpad = data_mpad**b\n",
    "        \n",
    "    \n",
    "    data_mpad = data_mpad/len(a)\n",
    "    print (\"MPAD value is: \",data_mpad)"
   ]
  },
  {
   "cell_type": "code",
   "execution_count": 237,
   "id": "104a8764",
   "metadata": {},
   "outputs": [
    {
     "name": "stdout",
     "output_type": "stream",
     "text": [
      "MPAD value is:  0.5\n",
      "MPAD value is:  2.6666666666666665\n",
      "MPAD value is:  1.125\n"
     ]
    }
   ],
   "source": [
    "mpad(X,2,'median')\n",
    "mpad(Y,2,'median')\n",
    "mpad(Z,2,'median')\n"
   ]
  },
  {
   "cell_type": "code",
   "execution_count": 238,
   "id": "61c54f2c",
   "metadata": {},
   "outputs": [
    {
     "name": "stdout",
     "output_type": "stream",
     "text": [
      "MPAD value is:  3.375\n",
      "MPAD value is:  8.21604938271605\n",
      "MPAD value is:  3.375\n"
     ]
    }
   ],
   "source": [
    "mpad(X,3,'mean')\n",
    "mpad(Y,3,'mean')\n",
    "mpad(Z,3,'mean')\n"
   ]
  },
  {
   "cell_type": "code",
   "execution_count": 174,
   "id": "e8d04350",
   "metadata": {},
   "outputs": [],
   "source": [
    "#10 Inter quartile range\n",
    "def iqr(a):\n",
    "    new_list = sort_f(a)\n",
    "    length = len(a) \n",
    "# since index in list starts from 0 we had to subtract 1 to take the correct value    \n",
    "    lq = (new_list[math.floor((length+1)/4)-1] + new_list[math.ceil((length+1)/4)-1]) /2\n",
    "    print(lq)\n",
    "    \n",
    "    uq = (new_list[math.floor(3*(length+1)/4)-1] + new_list[math.ceil(3*(length+1)/4)-1]) /2\n",
    "    print(uq)\n",
    "    \n",
    "    iqr = uq - lq\n",
    "    print(\"IQR is :\",iqr)"
   ]
  },
  {
   "cell_type": "code",
   "execution_count": 176,
   "id": "6a39b9a5",
   "metadata": {},
   "outputs": [
    {
     "name": "stdout",
     "output_type": "stream",
     "text": [
      "1.5\n",
      "3.0\n",
      "IQR is : 1.5\n",
      "1.0\n",
      "3.5\n",
      "IQR is : 2.5\n",
      "1.5\n",
      "3.5\n",
      "IQR is : 2.0\n"
     ]
    }
   ],
   "source": [
    "iqr(X)\n",
    "iqr(Y)\n",
    "iqr(Z)"
   ]
  },
  {
   "cell_type": "code",
   "execution_count": 178,
   "id": "1bcd8506",
   "metadata": {},
   "outputs": [],
   "source": [
    "#11. Quartile based skewness\n",
    "def iqr_skew(a):\n",
    "    new_list = sort_f(a)\n",
    "    length = len(a) \n",
    "    median = calculate_median(a)\n",
    "# since index in list starts from 0 we had to subtract 1 to take the correct value    \n",
    "    lq = (new_list[math.floor((length+1)/4)-1] + new_list[math.ceil((length+1)/4)-1]) /2\n",
    "    print(lq)\n",
    "    \n",
    "    uq = (new_list[math.floor(3*(length+1)/4)-1] + new_list[math.ceil(3*(length+1)/4)-1]) /2\n",
    "    print(uq)\n",
    "    \n",
    "    skew = (uq+lq-(2*median)) / (uq-lq)\n",
    "    print(\"IQR based skewness:\",skew)\n",
    "    "
   ]
  },
  {
   "cell_type": "code",
   "execution_count": 179,
   "id": "2a9073ff",
   "metadata": {},
   "outputs": [
    {
     "name": "stdout",
     "output_type": "stream",
     "text": [
      "3.0\n",
      "1.5\n",
      "3.0\n",
      "IQR based skewness: -1.0\n",
      "2.0\n",
      "1.0\n",
      "3.5\n",
      "IQR based skewness: 0.2\n",
      "2.5\n",
      "1.5\n",
      "3.5\n",
      "IQR based skewness: 0.0\n"
     ]
    }
   ],
   "source": [
    "iqr_skew(X)\n",
    "iqr_skew(Y)\n",
    "iqr_skew(Z)"
   ]
  },
  {
   "cell_type": "code",
   "execution_count": 183,
   "id": "902fcc70",
   "metadata": {},
   "outputs": [],
   "source": [
    "#12 Pearsons first skewness mean-mode/standard deviation\n",
    "def pearson_first(a):\n",
    "    mean = sum(a) / len(a)\n",
    "    mode = statistics.mode(a)\n",
    "    stdev = statistics.stdev(a)\n",
    "    p_fs_skew = mean-mode/ stdev\n",
    "    \n",
    "    print(\"Pearsons first skewness is: \",p_fs_skew)\n"
   ]
  },
  {
   "cell_type": "code",
   "execution_count": 185,
   "id": "ea660dcd",
   "metadata": {},
   "outputs": [
    {
     "name": "stdout",
     "output_type": "stream",
     "text": [
      "Pearsons first skewness is:  -0.3062430400804561\n",
      "Pearsons first skewness is:  1.4143118728033879\n",
      "Pearsons first skewness is:  1.6633399734659244\n"
     ]
    }
   ],
   "source": [
    "pearson_first(X)\n",
    "pearson_first(Y)\n",
    "pearson_first(Z)"
   ]
  },
  {
   "cell_type": "code",
   "execution_count": 226,
   "id": "010d4694",
   "metadata": {},
   "outputs": [],
   "source": [
    "#13 Pearsons second skewness 3(mean-median)/standard deviation\n",
    "def pearson_second(a):\n",
    "    mean = sum(a) / len(a)\n",
    "    median = calculate_median(a)\n",
    "    stdev = statistics.stdev(a)\n",
    "    p_sd_skew = 3* ((mean-median)/ stdev)\n",
    "    \n",
    "    print(\"Pearsons second skewness is: \",p_sd_skew)\n"
   ]
  },
  {
   "cell_type": "code",
   "execution_count": 227,
   "id": "8bc35657",
   "metadata": {},
   "outputs": [
    {
     "name": "stdout",
     "output_type": "stream",
     "text": [
      "Median vaule is: 3.0\n",
      "Pearsons second skewness is:  -1.403121520040228\n",
      "Median vaule is: 2.0\n",
      "Pearsons second skewness is:  0.37617739693163904\n",
      "Median vaule is: 2.5\n",
      "Pearsons second skewness is:  0.0\n"
     ]
    }
   ],
   "source": [
    "pearson_second(X)\n",
    "pearson_second(Y)\n",
    "pearson_second(Z)"
   ]
  },
  {
   "cell_type": "code",
   "execution_count": 239,
   "id": "b3f63dad",
   "metadata": {},
   "outputs": [],
   "source": [
    "#14 Groeneveld and Meeden's coefficient (mean-median)/E(X-median(X))\n",
    "def gm_coeff(a):\n",
    "    mean = sum(a) / len(a)\n",
    "    median = calculate_median(a)\n",
    "    \n",
    "    exp_value =  sum(abs(i-median) for i in a) / len(a)\n",
    "    \n",
    "    gm_coeff = (mean-median) / exp_value\n",
    "    \n",
    "    print(\"Groeneveld and Meeden's coefficient is:\",gm_coeff)\n",
    "    "
   ]
  },
  {
   "cell_type": "code",
   "execution_count": 240,
   "id": "6063680d",
   "metadata": {},
   "outputs": [
    {
     "name": "stdout",
     "output_type": "stream",
     "text": [
      "Median vaule is: 3.0\n",
      "Groeneveld and Meeden's coefficient is: -0.6666666666666666\n",
      "Median vaule is: 2.0\n",
      "Groeneveld and Meeden's coefficient is: 0.1428571428571427\n",
      "Median vaule is: 2.5\n",
      "Groeneveld and Meeden's coefficient is: 0.0\n"
     ]
    }
   ],
   "source": [
    "gm_coeff(X)\n",
    "gm_coeff(Y)\n",
    "gm_coeff(Z)"
   ]
  },
  {
   "cell_type": "code",
   "execution_count": 201,
   "id": "2d5f90da",
   "metadata": {},
   "outputs": [],
   "source": [
    "#15 Pearsons moment coefficient\n",
    "\n",
    "def pm_coeff(a):\n",
    "    mean  = sum(a) / len(a)\n",
    "    stddev = statistics.stdev(a)\n",
    "    \n",
    "    pm_coeff = sum ((i-mean) ** 3 for i in a) / ((stddev**3) * len(a)) \n",
    "    print(\"Pearson's moment coefficient is:\",pm_coeff)"
   ]
  },
  {
   "cell_type": "code",
   "execution_count": 202,
   "id": "2a7c40a9",
   "metadata": {},
   "outputs": [
    {
     "name": "stdout",
     "output_type": "stream",
     "text": [
      "Pearson's moment coefficient is: -0.3069328325087998\n",
      "Pearson's moment coefficient is: 0.1813853276609584\n",
      "Pearson's moment coefficient is: 0.0\n"
     ]
    }
   ],
   "source": [
    "pm_coeff(X)\n",
    "pm_coeff(Y)\n",
    "pm_coeff(Z)"
   ]
  },
  {
   "cell_type": "code",
   "execution_count": 203,
   "id": "0af0972b",
   "metadata": {},
   "outputs": [],
   "source": [
    "#16 Kurtosis\n",
    "def kurtosis(a):\n",
    "    mean  = sum(a) / len(a)\n",
    "    stddev = statistics.stdev(a)\n",
    "    \n",
    "    kurtosis = sum ((i-mean) ** 4 for i in a) / ((stddev**4) * len(a)) \n",
    "    print(\"Kurtosis is:\",kurtosis)"
   ]
  },
  {
   "cell_type": "code",
   "execution_count": 204,
   "id": "a344e8bd",
   "metadata": {},
   "outputs": [
    {
     "name": "stdout",
     "output_type": "stream",
     "text": [
      "Kurtosis is: 1.4833984374999996\n",
      "Kurtosis is: 0.951554527115225\n",
      "Kurtosis is: 1.2556250000000002\n"
     ]
    }
   ],
   "source": [
    "kurtosis(X)\n",
    "kurtosis(Y)\n",
    "kurtosis(Z)"
   ]
  },
  {
   "cell_type": "code",
   "execution_count": 246,
   "id": "2d2f897f",
   "metadata": {},
   "outputs": [],
   "source": [
    "#17 Generalized moment coefficient\n",
    "def pm_gen_coeff(a,b,c):\n",
    "    stddev = statistics.stdev(a)\n",
    "    if c == 'median':\n",
    "        median  = statistics.median(a)\n",
    "        pm_gen_coeff = sum ((i-median) ** b for i in a) / ((stddev**b) * len(a)) \n",
    "    elif c == 'mode':   \n",
    "        mode  = statistics.mode(a)\n",
    "        pm_gen_coeff = sum ((i-mode) ** b for i in a) / ((stddev**b) * len(a)) \n",
    "        \n",
    "        \n",
    "    print(\"Standardized coefficient is:\",pm_gen_coeff)"
   ]
  },
  {
   "cell_type": "code",
   "execution_count": 248,
   "id": "c890bb2a",
   "metadata": {},
   "outputs": [
    {
     "name": "stdout",
     "output_type": "stream",
     "text": [
      "Standardized coefficient is: -1.6369751067135991\n",
      "Standardized coefficient is: 0.4968380714191463\n",
      "Standardized coefficient is: 0.0\n"
     ]
    }
   ],
   "source": [
    "pm_gen_coeff(X,3,'median')\n",
    "pm_gen_coeff(Y,3,'median')\n",
    "pm_gen_coeff(Z,3,'median')"
   ]
  },
  {
   "cell_type": "code",
   "execution_count": 249,
   "id": "9cf85e0b",
   "metadata": {},
   "outputs": [
    {
     "name": "stdout",
     "output_type": "stream",
     "text": [
      "Standardized coefficient is: 3.253906249999999\n",
      "Standardized coefficient is: 6.0341758632965465\n",
      "Standardized coefficient is: 12.005000000000003\n"
     ]
    }
   ],
   "source": [
    "pm_gen_coeff(X,4,'mode')\n",
    "pm_gen_coeff(Y,4,'mode')\n",
    "pm_gen_coeff(Z,4,'mode')"
   ]
  },
  {
   "cell_type": "code",
   "execution_count": 250,
   "id": "ab201c7e",
   "metadata": {},
   "outputs": [],
   "source": [
    "#18 Geometric mean\n",
    "def geo_mean(a):\n",
    "    multiply = 1\n",
    "    n = len(a)\n",
    "    \n",
    "    for i in a:\n",
    "        multiply = multiply * (i)\n",
    "    \n",
    "    geo_mean = (multiply)**(1/n)\n",
    "    \n",
    "    print(\"Geometric mean is:\",geo_mean)\n",
    "        "
   ]
  },
  {
   "cell_type": "code",
   "execution_count": 206,
   "id": "6dfa9ff8",
   "metadata": {},
   "outputs": [
    {
     "name": "stdout",
     "output_type": "stream",
     "text": [
      "Geometric mean is: 2.2461919979205445\n",
      "Geometric mean is: 1.8171205928321397\n",
      "Geometric mean is: 2.213363839400643\n"
     ]
    }
   ],
   "source": [
    "geo_mean(X)\n",
    "geo_mean(Y)\n",
    "geo_mean(Z)"
   ]
  },
  {
   "cell_type": "code",
   "execution_count": 208,
   "id": "f906e2b2",
   "metadata": {},
   "outputs": [],
   "source": [
    "#19 Harmonic mean\n",
    "def harmonic_mean(a):\n",
    "    n = len(a)\n",
    "    inv_add = sum((i)**(-1) for i in a)\n",
    "    \n",
    "    h_mean = ((inv_add / n) **(-1)) \n",
    "    print(\"Harmonic mean is:\",h_mean)"
   ]
  },
  {
   "cell_type": "code",
   "execution_count": 209,
   "id": "f3e993cb",
   "metadata": {},
   "outputs": [
    {
     "name": "stdout",
     "output_type": "stream",
     "text": [
      "Harmonic mean is: 1.9591836734693875\n",
      "Harmonic mean is: 1.5319148936170213\n",
      "Harmonic mean is: 1.92\n"
     ]
    }
   ],
   "source": [
    "harmonic_mean(X)\n",
    "harmonic_mean(Y)\n",
    "harmonic_mean(Z)"
   ]
  },
  {
   "cell_type": "code",
   "execution_count": null,
   "id": "4584d3ad",
   "metadata": {},
   "outputs": [],
   "source": []
  }
 ],
 "metadata": {
  "kernelspec": {
   "display_name": "Python 3",
   "language": "python",
   "name": "python3"
  },
  "language_info": {
   "codemirror_mode": {
    "name": "ipython",
    "version": 3
   },
   "file_extension": ".py",
   "mimetype": "text/x-python",
   "name": "python",
   "nbconvert_exporter": "python",
   "pygments_lexer": "ipython3",
   "version": "3.8.8"
  }
 },
 "nbformat": 4,
 "nbformat_minor": 5
}
